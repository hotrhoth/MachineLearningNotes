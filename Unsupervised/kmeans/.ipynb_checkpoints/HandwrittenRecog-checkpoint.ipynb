{
 "cells": [
  {
   "cell_type": "code",
   "execution_count": 33,
   "metadata": {},
   "outputs": [
    {
     "name": "stdout",
     "output_type": "stream",
     "text": [
      "['IdxDecodeError', '__builtins__', '__cached__', '__doc__', '__file__', '__loader__', '__name__', '__package__', '__path__', '__spec__', '__version__', 'array', 'datasets_url', 'download_and_parse_mnist_file', 'download_file', 'functools', 'gzip', 'numpy', 'operator', 'os', 'parse_idx', 'struct', 'tempfile', 'temporary_dir', 'test_images', 'test_labels', 'train_images', 'train_labels', 'urljoin', 'urlretrieve']\n"
     ]
    }
   ],
   "source": [
    "import mnist\n",
    "print(dir(mnist))\n"
   ]
  },
  {
   "cell_type": "code",
   "execution_count": 34,
   "metadata": {},
   "outputs": [],
   "source": [
    "from loader import MNIST"
   ]
  },
  {
   "cell_type": "code",
   "execution_count": 42,
   "metadata": {},
   "outputs": [],
   "source": [
    "# %reset\n",
    "import numpy as np \n",
    "# from mnist import MNIST\n",
    "# from keras.datasets import mnist\n",
    "import matplotlib.pyplot as plt\n",
    "from sklearn.cluster import KMeans\n",
    "from sklearn.neighbors import NearestNeighbors\n",
    "from sklearn.preprocessing import normalize"
   ]
  },
  {
   "cell_type": "code",
   "execution_count": 44,
   "metadata": {},
   "outputs": [
    {
     "ename": "TimeoutError",
     "evalue": "[Errno 60] Operation timed out",
     "output_type": "error",
     "traceback": [
      "\u001b[0;31m---------------------------------------------------------------------------\u001b[0m",
      "\u001b[0;31mTimeoutError\u001b[0m                              Traceback (most recent call last)",
      "Cell \u001b[0;32mIn[44], line 4\u001b[0m\n\u001b[1;32m      1\u001b[0m \u001b[38;5;28;01mfrom\u001b[39;00m \u001b[38;5;21;01mdisplay_network\u001b[39;00m \u001b[38;5;28;01mimport\u001b[39;00m \u001b[38;5;241m*\u001b[39m\n\u001b[1;32m      3\u001b[0m mndata \u001b[38;5;241m=\u001b[39m MNIST(\u001b[38;5;124m'\u001b[39m\u001b[38;5;124m../MNIST/\u001b[39m\u001b[38;5;124m'\u001b[39m)\n\u001b[0;32m----> 4\u001b[0m \u001b[43mmndata\u001b[49m\u001b[38;5;241;43m.\u001b[39;49m\u001b[43mload_testing\u001b[49m\u001b[43m(\u001b[49m\u001b[43m)\u001b[49m\n\u001b[1;32m      5\u001b[0m X \u001b[38;5;241m=\u001b[39m mndata\u001b[38;5;241m.\u001b[39mtest_images\n\u001b[1;32m      6\u001b[0m X0 \u001b[38;5;241m=\u001b[39m np\u001b[38;5;241m.\u001b[39masarray(X)[:\u001b[38;5;241m1000\u001b[39m,:]\u001b[38;5;241m/\u001b[39m\u001b[38;5;241m256.0\u001b[39m\n",
      "File \u001b[0;32m~/Library/Mobile Documents/com~apple~CloudDocs/Desktop/ML notes/Unsupervised/K_means/loader.py:116\u001b[0m, in \u001b[0;36mMNIST.load_testing\u001b[0;34m(self)\u001b[0m\n\u001b[1;32m    115\u001b[0m \u001b[38;5;28;01mdef\u001b[39;00m \u001b[38;5;21mload_testing\u001b[39m(\u001b[38;5;28mself\u001b[39m):\n\u001b[0;32m--> 116\u001b[0m     ims, labels \u001b[38;5;241m=\u001b[39m \u001b[38;5;28;43mself\u001b[39;49m\u001b[38;5;241;43m.\u001b[39;49m\u001b[43mload\u001b[49m\u001b[43m(\u001b[49m\u001b[43mos\u001b[49m\u001b[38;5;241;43m.\u001b[39;49m\u001b[43mpath\u001b[49m\u001b[38;5;241;43m.\u001b[39;49m\u001b[43mjoin\u001b[49m\u001b[43m(\u001b[49m\u001b[38;5;28;43mself\u001b[39;49m\u001b[38;5;241;43m.\u001b[39;49m\u001b[43mpath\u001b[49m\u001b[43m,\u001b[49m\u001b[43m \u001b[49m\u001b[38;5;28;43mself\u001b[39;49m\u001b[38;5;241;43m.\u001b[39;49m\u001b[43mtest_img_fname\u001b[49m\u001b[43m)\u001b[49m\u001b[43m,\u001b[49m\n\u001b[1;32m    117\u001b[0m \u001b[43m                            \u001b[49m\u001b[43mos\u001b[49m\u001b[38;5;241;43m.\u001b[39;49m\u001b[43mpath\u001b[49m\u001b[38;5;241;43m.\u001b[39;49m\u001b[43mjoin\u001b[49m\u001b[43m(\u001b[49m\u001b[38;5;28;43mself\u001b[39;49m\u001b[38;5;241;43m.\u001b[39;49m\u001b[43mpath\u001b[49m\u001b[43m,\u001b[49m\u001b[43m \u001b[49m\u001b[38;5;28;43mself\u001b[39;49m\u001b[38;5;241;43m.\u001b[39;49m\u001b[43mtest_lbl_fname\u001b[49m\u001b[43m)\u001b[49m\u001b[43m)\u001b[49m\n\u001b[1;32m    119\u001b[0m     \u001b[38;5;28mself\u001b[39m\u001b[38;5;241m.\u001b[39mtest_images \u001b[38;5;241m=\u001b[39m \u001b[38;5;28mself\u001b[39m\u001b[38;5;241m.\u001b[39mprocess_images(ims)\n\u001b[1;32m    120\u001b[0m     \u001b[38;5;28mself\u001b[39m\u001b[38;5;241m.\u001b[39mtest_labels \u001b[38;5;241m=\u001b[39m \u001b[38;5;28mself\u001b[39m\u001b[38;5;241m.\u001b[39mprocess_labels(labels)\n",
      "File \u001b[0;32m~/Library/Mobile Documents/com~apple~CloudDocs/Desktop/ML notes/Unsupervised/K_means/loader.py:248\u001b[0m, in \u001b[0;36mMNIST.load\u001b[0;34m(self, path_img, path_lbl, batch)\u001b[0m\n\u001b[1;32m    244\u001b[0m         \u001b[38;5;28;01mraise\u001b[39;00m \u001b[38;5;167;01mValueError\u001b[39;00m(\u001b[38;5;124m'\u001b[39m\u001b[38;5;124mbatch should be a 1-D list\u001b[39m\u001b[38;5;124m'\u001b[39m\n\u001b[1;32m    245\u001b[0m                          \u001b[38;5;124m'\u001b[39m\u001b[38;5;124m(start_point, batch_size)\u001b[39m\u001b[38;5;124m'\u001b[39m)\n\u001b[1;32m    247\u001b[0m \u001b[38;5;28;01mwith\u001b[39;00m \u001b[38;5;28mself\u001b[39m\u001b[38;5;241m.\u001b[39mopener(path_lbl, \u001b[38;5;124m'\u001b[39m\u001b[38;5;124mrb\u001b[39m\u001b[38;5;124m'\u001b[39m) \u001b[38;5;28;01mas\u001b[39;00m file:\n\u001b[0;32m--> 248\u001b[0m     magic, size \u001b[38;5;241m=\u001b[39m struct\u001b[38;5;241m.\u001b[39munpack(\u001b[38;5;124m\"\u001b[39m\u001b[38;5;124m>II\u001b[39m\u001b[38;5;124m\"\u001b[39m, \u001b[43mfile\u001b[49m\u001b[38;5;241;43m.\u001b[39;49m\u001b[43mread\u001b[49m\u001b[43m(\u001b[49m\u001b[38;5;241;43m8\u001b[39;49m\u001b[43m)\u001b[49m)\n\u001b[1;32m    249\u001b[0m     \u001b[38;5;28;01mif\u001b[39;00m magic \u001b[38;5;241m!=\u001b[39m \u001b[38;5;241m2049\u001b[39m:\n\u001b[1;32m    250\u001b[0m         \u001b[38;5;28;01mraise\u001b[39;00m \u001b[38;5;167;01mValueError\u001b[39;00m(\u001b[38;5;124m'\u001b[39m\u001b[38;5;124mMagic number mismatch, expected 2049,\u001b[39m\u001b[38;5;124m'\u001b[39m\n\u001b[1;32m    251\u001b[0m                          \u001b[38;5;124m'\u001b[39m\u001b[38;5;124mgot \u001b[39m\u001b[38;5;132;01m{}\u001b[39;00m\u001b[38;5;124m'\u001b[39m\u001b[38;5;241m.\u001b[39mformat(magic))\n",
      "\u001b[0;31mTimeoutError\u001b[0m: [Errno 60] Operation timed out"
     ]
    }
   ],
   "source": [
    "from display_network import *\n",
    "\n",
    "mndata = MNIST('../MNIST/')\n",
    "mndata.load_testing()\n",
    "X = mndata.test_images\n",
    "X0 = np.asarray(X)[:1000,:]/256.0\n",
    "X = X0\n",
    "\n",
    "K = 10\n",
    "kmeans = KMeans(n_clusters=K).fit(X)\n",
    "\n",
    "pred_label = kmeans.predict(X)"
   ]
  },
  {
   "cell_type": "code",
   "execution_count": 45,
   "metadata": {},
   "outputs": [
    {
     "name": "stdout",
     "output_type": "stream",
     "text": [
      "<class 'numpy.ndarray'>\n",
      "(784, 10)\n"
     ]
    },
    {
     "data": {
      "image/png": "[encoded data removed]",
      "text/plain": [
       "<Figure size 640x480 with 1 Axes>"
      ]
     },
     "metadata": {},
     "output_type": "display_data"
    }
   ],
   "source": [
    "print(type(kmeans.cluster_centers_.T))\n",
    "print(kmeans.cluster_centers_.T.shape)\n",
    "A = display_network(kmeans.cluster_centers_.T, K, 1)\n",
    "\n",
    "f1 = plt.imshow(A, interpolation='nearest', cmap = \"jet\")\n",
    "f1.axes.get_xaxis().set_visible(False)\n",
    "f1.axes.get_yaxis().set_visible(False)\n",
    "plt.show()\n",
    "# plt.savefig('a1.png', bbox_inches='tight')\n",
    "\n",
    "\n",
    "# a colormap and a normalization instance\n",
    "cmap = plt.cm.jet\n",
    "norm = plt.Normalize(vmin=A.min(), vmax=A.max())\n",
    "\n",
    "# map the normalized data to colors\n",
    "# image is now RGBA (512x512x4) \n",
    "image = cmap(norm(A))\n"
   ]
  },
  {
   "cell_type": "code",
   "execution_count": null,
   "metadata": {},
   "outputs": [
    {
     "name": "stdout",
     "output_type": "stream",
     "text": [
      "<class 'numpy.ndarray'>\n",
      "(1000,)\n",
      "<class 'numpy.ndarray'>\n"
     ]
    }
   ],
   "source": [
    "print(type(pred_label))\n",
    "print(pred_label.shape)\n",
    "print(type(X0))"
   ]
  },
  {
   "cell_type": "code",
   "execution_count": null,
   "metadata": {},
   "outputs": [
    {
     "ename": "TypeError",
     "evalue": "__init__() takes 1 positional argument but 2 were given",
     "output_type": "error",
     "traceback": [
      "\u001b[0;31m---------------------------------------------------------------------------\u001b[0m",
      "\u001b[0;31mTypeError\u001b[0m                                 Traceback (most recent call last)",
      "Cell \u001b[0;32mIn[32], line 9\u001b[0m\n\u001b[1;32m      6\u001b[0m Xk \u001b[38;5;241m=\u001b[39m X0[pred_label \u001b[38;5;241m==\u001b[39m k, :]\n\u001b[1;32m      8\u001b[0m center_k \u001b[38;5;241m=\u001b[39m [kmeans\u001b[38;5;241m.\u001b[39mcluster_centers_[k]]\n\u001b[0;32m----> 9\u001b[0m neigh \u001b[38;5;241m=\u001b[39m \u001b[43mNearestNeighbors\u001b[49m\u001b[43m(\u001b[49m\u001b[43mN0\u001b[49m\u001b[43m)\u001b[49m\u001b[38;5;241m.\u001b[39mfit(Xk)\n\u001b[1;32m     10\u001b[0m dist, nearest_id  \u001b[38;5;241m=\u001b[39m neigh\u001b[38;5;241m.\u001b[39mkneighbors(center_k, N0)\n\u001b[1;32m     12\u001b[0m X1[N0\u001b[38;5;241m*\u001b[39mk: N0\u001b[38;5;241m*\u001b[39mk \u001b[38;5;241m+\u001b[39m N0,:] \u001b[38;5;241m=\u001b[39m Xk[nearest_id, :]\n",
      "\u001b[0;31mTypeError\u001b[0m: __init__() takes 1 positional argument but 2 were given"
     ]
    }
   ],
   "source": [
    "N0 = 20;\n",
    "X1 = np.zeros((N0*K, 784))\n",
    "X2 = np.zeros((N0*K, 784))\n",
    "\n",
    "for k in range(K):\n",
    "    Xk = X0[pred_label == k, :]\n",
    "\n",
    "    center_k = [kmeans.cluster_centers_[k]]\n",
    "    neigh = NearestNeighbors(N0).fit(Xk)\n",
    "    dist, nearest_id  = neigh.kneighbors(center_k, N0)\n",
    "    \n",
    "    X1[N0*k: N0*k + N0,:] = Xk[nearest_id, :]\n",
    "    X2[N0*k: N0*k + N0,:] = Xk[:N0, :]"
   ]
  },
  {
   "cell_type": "code",
   "execution_count": null,
   "metadata": {},
   "outputs": [],
   "source": []
  }
 ],
 "metadata": {
  "kernelspec": {
   "display_name": "base",
   "language": "python",
   "name": "python3"
  },
  "language_info": {
   "codemirror_mode": {
    "name": "ipython",
    "version": 3
   },
   "file_extension": ".py",
   "mimetype": "text/x-python",
   "name": "python",
   "nbconvert_exporter": "python",
   "pygments_lexer": "ipython3",
   "version": "3.9.6"
  }
 },
 "nbformat": 4,
 "nbformat_minor": 2
}
