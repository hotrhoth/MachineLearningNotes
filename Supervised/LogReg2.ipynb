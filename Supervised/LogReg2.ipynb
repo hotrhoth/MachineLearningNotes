{
 "cells": [
  {
   "cell_type": "markdown",
   "metadata": {},
   "source": [
    "### Bài toán phân biệt hai chữ số viết tay"
   ]
  },
  {
   "cell_type": "code",
   "execution_count": 3,
   "metadata": {},
   "outputs": [],
   "source": [
    "# %reset\n",
    "import numpy as np\n",
    "from mnist import MNIST\n",
    "import matplotlib.pyplot as plt\n",
    "from sklearn import linear_model\n",
    "from sklearn.metrics import accuracy_score\n",
    "from display_network import *"
   ]
  },
  {
   "cell_type": "code",
   "execution_count": 6,
   "metadata": {},
   "outputs": [],
   "source": [
    "\n",
    "mntrain = MNIST('/Users/tramho/Library/Mobile Documents/com~apple~CloudDocs/Desktop/ML notes/Unsupervised/MNIST')\n",
    "mntrain.load_training()\n",
    "Xtrain_all = np.asarray(mntrain.train_images)\n",
    "ytrain_all = np.array(mntrain.train_labels.tolist())\n",
    "\n",
    "mntest = MNIST('/Users/tramho/Library/Mobile Documents/com~apple~CloudDocs/Desktop/ML notes/Unsupervised/MNIST')\n",
    "mntest.load_testing()\n",
    "Xtest_all = np.asarray(mntest.test_images)\n",
    "ytest_all = np.array(mntest.test_labels.tolist())"
   ]
  },
  {
   "cell_type": "code",
   "execution_count": 7,
   "metadata": {},
   "outputs": [],
   "source": [
    "cls = [[0], [1]]"
   ]
  },
  {
   "cell_type": "code",
   "execution_count": 11,
   "metadata": {},
   "outputs": [],
   "source": [
    "def extract_data(X, y, classes):\n",
    "    y_res_id =np.array([])\n",
    "\n",
    "    for i in cls[0]:\n",
    "        y_res_id = np.hstack((y_res_id, np.where(y == i)[0]))\n",
    "    n0 = len(y_res_id)\n",
    "\n",
    "    for i in cls[1]:\n",
    "        y_res_id = np.hstack((y_res_id, np.where(y == i)[0]))\n",
    "    n1 = len(y_res_id) - n0 \n",
    "\n",
    "    y_res_id = y_res_id.astype(int)\n",
    "    X_res = X[y_res_id, :]/255.0\n",
    "    y_res = np.asarray([0]*n0 + [1]*n1)\n",
    "    return (X_res, y_res)\n",
    "\n",
    "# extract data for training \n",
    "(X_train, y_train) = extract_data(Xtrain_all, ytrain_all, cls)\n",
    "\n",
    "# extract data for test \n",
    "(X_test, y_test) = extract_data(Xtest_all, ytest_all, cls)"
   ]
  },
  {
   "cell_type": "code",
   "execution_count": 12,
   "metadata": {},
   "outputs": [
    {
     "name": "stdout",
     "output_type": "stream",
     "text": [
      "Accuracy: 99.91 %\n"
     ]
    }
   ],
   "source": [
    "# train the logistic regression model \n",
    "logreg = linear_model.LogisticRegression(C=1e5) # just a big number \n",
    "logreg.fit(X_train, y_train)\n",
    "\n",
    "# predict \n",
    "y_pred = logreg.predict(X_test)\n",
    "print(\"Accuracy: %.2f %%\" %(100*accuracy_score(y_test, y_pred.tolist())))"
   ]
  },
  {
   "cell_type": "code",
   "execution_count": 13,
   "metadata": {},
   "outputs": [
    {
     "data": {
      "image/png": "[encoded data removed]",
      "text/plain": [
       "<Figure size 640x480 with 1 Axes>"
      ]
     },
     "metadata": {},
     "output_type": "display_data"
    }
   ],
   "source": [
    "# display misclassified image(s)\n",
    "mis = np.where((y_pred - y_test) != 0)[0]\n",
    "Xmis = X_test[mis, :]\n",
    "\n",
    "plt.axis('off')\n",
    "A = display_network(Xmis.T)\n",
    "f2 = plt.imshow(A, interpolation='nearest' )\n",
    "plt.gray()\n",
    "plt.show()"
   ]
  },
  {
   "cell_type": "code",
   "execution_count": 16,
   "metadata": {},
   "outputs": [
    {
     "name": "stdout",
     "output_type": "stream",
     "text": [
      "Accuracy: 92.43 %\n"
     ]
    },
    {
     "name": "stderr",
     "output_type": "stream",
     "text": [
      "/Users/tramho/Library/Python/3.9/lib/python/site-packages/sklearn/linear_model/_logistic.py:469: ConvergenceWarning: lbfgs failed to converge (status=1):\n",
      "STOP: TOTAL NO. of ITERATIONS REACHED LIMIT.\n",
      "\n",
      "Increase the number of iterations (max_iter) or scale the data as shown in:\n",
      "    https://scikit-learn.org/stable/modules/preprocessing.html\n",
      "Please also refer to the documentation for alternative solver options:\n",
      "    https://scikit-learn.org/stable/modules/linear_model.html#logistic-regression\n",
      "  n_iter_i = _check_optimize_result(\n"
     ]
    }
   ],
   "source": [
    "logreg.fit(Xtrain_all, ytrain_all)\n",
    "y_pred = logreg.predict(Xtest_all)\n",
    "print(\"Accuracy: %.2f %%\" %(100*accuracy_score(ytest_all, y_pred.tolist())))"
   ]
  },
  {
   "cell_type": "code",
   "execution_count": null,
   "metadata": {},
   "outputs": [],
   "source": []
  }
 ],
 "metadata": {
  "kernelspec": {
   "display_name": "Python 3",
   "language": "python",
   "name": "python3"
  },
  "language_info": {
   "codemirror_mode": {
    "name": "ipython",
    "version": 3
   },
   "file_extension": ".py",
   "mimetype": "text/x-python",
   "name": "python",
   "nbconvert_exporter": "python",
   "pygments_lexer": "ipython3",
   "version": "3.9.6"
  }
 },
 "nbformat": 4,
 "nbformat_minor": 2
}
