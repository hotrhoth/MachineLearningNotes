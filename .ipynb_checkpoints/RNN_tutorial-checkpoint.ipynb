{
  "nbformat": 4,
  "nbformat_minor": 0,
  "metadata": {
    "colab": {
      "provenance": [],
      "gpuType": "T4"
    },
    "kernelspec": {
      "name": "python3",
      "display_name": "Python 3"
    },
    "language_info": {
      "name": "python"
    },
    "accelerator": "GPU",
    "widgets": {
      "application/vnd.jupyter.widget-state+json": {
        "c7d9ccedf9a944feaed693c3ecc006cb": {
          "model_module": "@jupyter-widgets/controls",
          "model_name": "HBoxModel",
          "model_module_version": "1.5.0",
          "state": {
            "_dom_classes": [],
            "_model_module": "@jupyter-widgets/controls",
            "_model_module_version": "1.5.0",
            "_model_name": "HBoxModel",
            "_view_count": null,
            "_view_module": "@jupyter-widgets/controls",
            "_view_module_version": "1.5.0",
            "_view_name": "HBoxView",
            "box_style": "",
            "children": [
              "IPY_MODEL_d6bf71c55c0b48b1b2c69eed7b5f7f87",
              "IPY_MODEL_8622412d3d354f0981d0799ac27f5952",
              "IPY_MODEL_1b734b8cb13d40b78c3a6d503dc9af9b"
            ],
            "layout": "IPY_MODEL_20ea652112d24023a77a5d59d5866368"
          }
        },
        "d6bf71c55c0b48b1b2c69eed7b5f7f87": {
          "model_module": "@jupyter-widgets/controls",
          "model_name": "HTMLModel",
          "model_module_version": "1.5.0",
          "state": {
            "_dom_classes": [],
            "_model_module": "@jupyter-widgets/controls",
            "_model_module_version": "1.5.0",
            "_model_name": "HTMLModel",
            "_view_count": null,
            "_view_module": "@jupyter-widgets/controls",
            "_view_module_version": "1.5.0",
            "_view_name": "HTMLView",
            "description": "",
            "description_tooltip": null,
            "layout": "IPY_MODEL_ef7e1040285342999a2b4084a67bb853",
            "placeholder": "​",
            "style": "IPY_MODEL_7d6651c7c9034af48b5c1d29d1de3ff5",
            "value": "README.md: 100%"
          }
        },
        "8622412d3d354f0981d0799ac27f5952": {
          "model_module": "@jupyter-widgets/controls",
          "model_name": "FloatProgressModel",
          "model_module_version": "1.5.0",
          "state": {
            "_dom_classes": [],
            "_model_module": "@jupyter-widgets/controls",
            "_model_module_version": "1.5.0",
            "_model_name": "FloatProgressModel",
            "_view_count": null,
            "_view_module": "@jupyter-widgets/controls",
            "_view_module_version": "1.5.0",
            "_view_name": "ProgressView",
            "bar_style": "success",
            "description": "",
            "description_tooltip": null,
            "layout": "IPY_MODEL_661355ad3f534024a63444d34d5d056a",
            "max": 3972,
            "min": 0,
            "orientation": "horizontal",
            "style": "IPY_MODEL_ad3d013a331a4a8ea40f6ad450d5b79b",
            "value": 3972
          }
        },
        "1b734b8cb13d40b78c3a6d503dc9af9b": {
          "model_module": "@jupyter-widgets/controls",
          "model_name": "HTMLModel",
          "model_module_version": "1.5.0",
          "state": {
            "_dom_classes": [],
            "_model_module": "@jupyter-widgets/controls",
            "_model_module_version": "1.5.0",
            "_model_name": "HTMLModel",
            "_view_count": null,
            "_view_module": "@jupyter-widgets/controls",
            "_view_module_version": "1.5.0",
            "_view_name": "HTMLView",
            "description": "",
            "description_tooltip": null,
            "layout": "IPY_MODEL_1066f28db5d9428cb3acaadc8a4f8af3",
            "placeholder": "​",
            "style": "IPY_MODEL_376269cc34c24368b9a1fbe9de7437a8",
            "value": " 3.97k/3.97k [00:00&lt;00:00, 66.2kB/s]"
          }
        },
        "20ea652112d24023a77a5d59d5866368": {
          "model_module": "@jupyter-widgets/base",
          "model_name": "LayoutModel",
          "model_module_version": "1.2.0",
          "state": {
            "_model_module": "@jupyter-widgets/base",
            "_model_module_version": "1.2.0",
            "_model_name": "LayoutModel",
            "_view_count": null,
            "_view_module": "@jupyter-widgets/base",
            "_view_module_version": "1.2.0",
            "_view_name": "LayoutView",
            "align_content": null,
            "align_items": null,
            "align_self": null,
            "border": null,
            "bottom": null,
            "display": null,
            "flex": null,
            "flex_flow": null,
            "grid_area": null,
            "grid_auto_columns": null,
            "grid_auto_flow": null,
            "grid_auto_rows": null,
            "grid_column": null,
            "grid_gap": null,
            "grid_row": null,
            "grid_template_areas": null,
            "grid_template_columns": null,
            "grid_template_rows": null,
            "height": null,
            "justify_content": null,
            "justify_items": null,
            "left": null,
            "margin": null,
            "max_height": null,
            "max_width": null,
            "min_height": null,
            "min_width": null,
            "object_fit": null,
            "object_position": null,
            "order": null,
            "overflow": null,
            "overflow_x": null,
            "overflow_y": null,
            "padding": null,
            "right": null,
            "top": null,
            "visibility": null,
            "width": null
          }
        },
        "ef7e1040285342999a2b4084a67bb853": {
          "model_module": "@jupyter-widgets/base",
          "model_name": "LayoutModel",
          "model_module_version": "1.2.0",
          "state": {
            "_model_module": "@jupyter-widgets/base",
            "_model_module_version": "1.2.0",
            "_model_name": "LayoutModel",
            "_view_count": null,
            "_view_module": "@jupyter-widgets/base",
            "_view_module_version": "1.2.0",
            "_view_name": "LayoutView",
            "align_content": null,
            "align_items": null,
            "align_self": null,
            "border": null,
            "bottom": null,
            "display": null,
            "flex": null,
            "flex_flow": null,
            "grid_area": null,
            "grid_auto_columns": null,
            "grid_auto_flow": null,
            "grid_auto_rows": null,
            "grid_column": null,
            "grid_gap": null,
            "grid_row": null,
            "grid_template_areas": null,
            "grid_template_columns": null,
            "grid_template_rows": null,
            "height": null,
            "justify_content": null,
            "justify_items": null,
            "left": null,
            "margin": null,
            "max_height": null,
            "max_width": null,
            "min_height": null,
            "min_width": null,
            "object_fit": null,
            "object_position": null,
            "order": null,
            "overflow": null,
            "overflow_x": null,
            "overflow_y": null,
            "padding": null,
            "right": null,
            "top": null,
            "visibility": null,
            "width": null
          }
        },
        "7d6651c7c9034af48b5c1d29d1de3ff5": {
          "model_module": "@jupyter-widgets/controls",
          "model_name": "DescriptionStyleModel",
          "model_module_version": "1.5.0",
          "state": {
            "_model_module": "@jupyter-widgets/controls",
            "_model_module_version": "1.5.0",
            "_model_name": "DescriptionStyleModel",
            "_view_count": null,
            "_view_module": "@jupyter-widgets/base",
            "_view_module_version": "1.2.0",
            "_view_name": "StyleView",
            "description_width": ""
          }
        },
        "661355ad3f534024a63444d34d5d056a": {
          "model_module": "@jupyter-widgets/base",
          "model_name": "LayoutModel",
          "model_module_version": "1.2.0",
          "state": {
            "_model_module": "@jupyter-widgets/base",
            "_model_module_version": "1.2.0",
            "_model_name": "LayoutModel",
            "_view_count": null,
            "_view_module": "@jupyter-widgets/base",
            "_view_module_version": "1.2.0",
            "_view_name": "LayoutView",
            "align_content": null,
            "align_items": null,
            "align_self": null,
            "border": null,
            "bottom": null,
            "display": null,
            "flex": null,
            "flex_flow": null,
            "grid_area": null,
            "grid_auto_columns": null,
            "grid_auto_flow": null,
            "grid_auto_rows": null,
            "grid_column": null,
            "grid_gap": null,
            "grid_row": null,
            "grid_template_areas": null,
            "grid_template_columns": null,
            "grid_template_rows": null,
            "height": null,
            "justify_content": null,
            "justify_items": null,
            "left": null,
            "margin": null,
            "max_height": null,
            "max_width": null,
            "min_height": null,
            "min_width": null,
            "object_fit": null,
            "object_position": null,
            "order": null,
            "overflow": null,
            "overflow_x": null,
            "overflow_y": null,
            "padding": null,
            "right": null,
            "top": null,
            "visibility": null,
            "width": null
          }
        },
        "ad3d013a331a4a8ea40f6ad450d5b79b": {
          "model_module": "@jupyter-widgets/controls",
          "model_name": "ProgressStyleModel",
          "model_module_version": "1.5.0",
          "state": {
            "_model_module": "@jupyter-widgets/controls",
            "_model_module_version": "1.5.0",
            "_model_name": "ProgressStyleModel",
            "_view_count": null,
            "_view_module": "@jupyter-widgets/base",
            "_view_module_version": "1.2.0",
            "_view_name": "StyleView",
            "bar_color": null,
            "description_width": ""
          }
        },
        "1066f28db5d9428cb3acaadc8a4f8af3": {
          "model_module": "@jupyter-widgets/base",
          "model_name": "LayoutModel",
          "model_module_version": "1.2.0",
          "state": {
            "_model_module": "@jupyter-widgets/base",
            "_model_module_version": "1.2.0",
            "_model_name": "LayoutModel",
            "_view_count": null,
            "_view_module": "@jupyter-widgets/base",
            "_view_module_version": "1.2.0",
            "_view_name": "LayoutView",
            "align_content": null,
            "align_items": null,
            "align_self": null,
            "border": null,
            "bottom": null,
            "display": null,
            "flex": null,
            "flex_flow": null,
            "grid_area": null,
            "grid_auto_columns": null,
            "grid_auto_flow": null,
            "grid_auto_rows": null,
            "grid_column": null,
            "grid_gap": null,
            "grid_row": null,
            "grid_template_areas": null,
            "grid_template_columns": null,
            "grid_template_rows": null,
            "height": null,
            "justify_content": null,
            "justify_items": null,
            "left": null,
            "margin": null,
            "max_height": null,
            "max_width": null,
            "min_height": null,
            "min_width": null,
            "object_fit": null,
            "object_position": null,
            "order": null,
            "overflow": null,
            "overflow_x": null,
            "overflow_y": null,
            "padding": null,
            "right": null,
            "top": null,
            "visibility": null,
            "width": null
          }
        },
        "376269cc34c24368b9a1fbe9de7437a8": {
          "model_module": "@jupyter-widgets/controls",
          "model_name": "DescriptionStyleModel",
          "model_module_version": "1.5.0",
          "state": {
            "_model_module": "@jupyter-widgets/controls",
            "_model_module_version": "1.5.0",
            "_model_name": "DescriptionStyleModel",
            "_view_count": null,
            "_view_module": "@jupyter-widgets/base",
            "_view_module_version": "1.2.0",
            "_view_name": "StyleView",
            "description_width": ""
          }
        },
        "25a861a174904a0f84e8f67df3e13c19": {
          "model_module": "@jupyter-widgets/controls",
          "model_name": "HBoxModel",
          "model_module_version": "1.5.0",
          "state": {
            "_dom_classes": [],
            "_model_module": "@jupyter-widgets/controls",
            "_model_module_version": "1.5.0",
            "_model_name": "HBoxModel",
            "_view_count": null,
            "_view_module": "@jupyter-widgets/controls",
            "_view_module_version": "1.5.0",
            "_view_name": "HBoxView",
            "box_style": "",
            "children": [
              "IPY_MODEL_5a249d633ee5419db0b3a36a3cfe40b4",
              "IPY_MODEL_a40b1c6442a5413881a7ee1ab558f8ba",
              "IPY_MODEL_c486610ac62942b29b1017ee1d9a9e45"
            ],
            "layout": "IPY_MODEL_21c6423ecf494f9d9cf0e5723d2f21ab"
          }
        },
        "5a249d633ee5419db0b3a36a3cfe40b4": {
          "model_module": "@jupyter-widgets/controls",
          "model_name": "HTMLModel",
          "model_module_version": "1.5.0",
          "state": {
            "_dom_classes": [],
            "_model_module": "@jupyter-widgets/controls",
            "_model_module_version": "1.5.0",
            "_model_name": "HTMLModel",
            "_view_count": null,
            "_view_module": "@jupyter-widgets/controls",
            "_view_module_version": "1.5.0",
            "_view_name": "HTMLView",
            "description": "",
            "description_tooltip": null,
            "layout": "IPY_MODEL_bea286012be94a29be478c2a16d759c4",
            "placeholder": "​",
            "style": "IPY_MODEL_b2d05c756640418ca7a4438d0e165875",
            "value": "Resolving data files: 100%"
          }
        },
        "a40b1c6442a5413881a7ee1ab558f8ba": {
          "model_module": "@jupyter-widgets/controls",
          "model_name": "FloatProgressModel",
          "model_module_version": "1.5.0",
          "state": {
            "_dom_classes": [],
            "_model_module": "@jupyter-widgets/controls",
            "_model_module_version": "1.5.0",
            "_model_name": "FloatProgressModel",
            "_view_count": null,
            "_view_module": "@jupyter-widgets/controls",
            "_view_module_version": "1.5.0",
            "_view_name": "ProgressView",
            "bar_style": "success",
            "description": "",
            "description_tooltip": null,
            "layout": "IPY_MODEL_40505f2d10504fb9836f83601cde0a4c",
            "max": 48,
            "min": 0,
            "orientation": "horizontal",
            "style": "IPY_MODEL_bc703598a0e940f4ab6ead263911fcdc",
            "value": 48
          }
        },
        "c486610ac62942b29b1017ee1d9a9e45": {
          "model_module": "@jupyter-widgets/controls",
          "model_name": "HTMLModel",
          "model_module_version": "1.5.0",
          "state": {
            "_dom_classes": [],
            "_model_module": "@jupyter-widgets/controls",
            "_model_module_version": "1.5.0",
            "_model_name": "HTMLModel",
            "_view_count": null,
            "_view_module": "@jupyter-widgets/controls",
            "_view_module_version": "1.5.0",
            "_view_name": "HTMLView",
            "description": "",
            "description_tooltip": null,
            "layout": "IPY_MODEL_eaba21da45c647a0944f2be8c6962ba8",
            "placeholder": "​",
            "style": "IPY_MODEL_e9ce476597fb4e648bd9fe036cc30e9b",
            "value": " 48/48 [00:00&lt;00:00, 87.59it/s]"
          }
        },
        "21c6423ecf494f9d9cf0e5723d2f21ab": {
          "model_module": "@jupyter-widgets/base",
          "model_name": "LayoutModel",
          "model_module_version": "1.2.0",
          "state": {
            "_model_module": "@jupyter-widgets/base",
            "_model_module_version": "1.2.0",
            "_model_name": "LayoutModel",
            "_view_count": null,
            "_view_module": "@jupyter-widgets/base",
            "_view_module_version": "1.2.0",
            "_view_name": "LayoutView",
            "align_content": null,
            "align_items": null,
            "align_self": null,
            "border": null,
            "bottom": null,
            "display": null,
            "flex": null,
            "flex_flow": null,
            "grid_area": null,
            "grid_auto_columns": null,
            "grid_auto_flow": null,
            "grid_auto_rows": null,
            "grid_column": null,
            "grid_gap": null,
            "grid_row": null,
            "grid_template_areas": null,
            "grid_template_columns": null,
            "grid_template_rows": null,
            "height": null,
            "justify_content": null,
            "justify_items": null,
            "left": null,
            "margin": null,
            "max_height": null,
            "max_width": null,
            "min_height": null,
            "min_width": null,
            "object_fit": null,
            "object_position": null,
            "order": null,
            "overflow": null,
            "overflow_x": null,
            "overflow_y": null,
            "padding": null,
            "right": null,
            "top": null,
            "visibility": null,
            "width": null
          }
        },
        "bea286012be94a29be478c2a16d759c4": {
          "model_module": "@jupyter-widgets/base",
          "model_name": "LayoutModel",
          "model_module_version": "1.2.0",
          "state": {
            "_model_module": "@jupyter-widgets/base",
            "_model_module_version": "1.2.0",
            "_model_name": "LayoutModel",
            "_view_count": null,
            "_view_module": "@jupyter-widgets/base",
            "_view_module_version": "1.2.0",
            "_view_name": "LayoutView",
            "align_content": null,
            "align_items": null,
            "align_self": null,
            "border": null,
            "bottom": null,
            "display": null,
            "flex": null,
            "flex_flow": null,
            "grid_area": null,
            "grid_auto_columns": null,
            "grid_auto_flow": null,
            "grid_auto_rows": null,
            "grid_column": null,
            "grid_gap": null,
            "grid_row": null,
            "grid_template_areas": null,
            "grid_template_columns": null,
            "grid_template_rows": null,
            "height": null,
            "justify_content": null,
            "justify_items": null,
            "left": null,
            "margin": null,
            "max_height": null,
            "max_width": null,
            "min_height": null,
            "min_width": null,
            "object_fit": null,
            "object_position": null,
            "order": null,
            "overflow": null,
            "overflow_x": null,
            "overflow_y": null,
            "padding": null,
            "right": null,
            "top": null,
            "visibility": null,
            "width": null
          }
        },
        "b2d05c756640418ca7a4438d0e165875": {
          "model_module": "@jupyter-widgets/controls",
          "model_name": "DescriptionStyleModel",
          "model_module_version": "1.5.0",
          "state": {
            "_model_module": "@jupyter-widgets/controls",
            "_model_module_version": "1.5.0",
            "_model_name": "DescriptionStyleModel",
            "_view_count": null,
            "_view_module": "@jupyter-widgets/base",
            "_view_module_version": "1.2.0",
            "_view_name": "StyleView",
            "description_width": ""
          }
        },
        "40505f2d10504fb9836f83601cde0a4c": {
          "model_module": "@jupyter-widgets/base",
          "model_name": "LayoutModel",
          "model_module_version": "1.2.0",
          "state": {
            "_model_module": "@jupyter-widgets/base",
            "_model_module_version": "1.2.0",
            "_model_name": "LayoutModel",
            "_view_count": null,
            "_view_module": "@jupyter-widgets/base",
            "_view_module_version": "1.2.0",
            "_view_name": "LayoutView",
            "align_content": null,
            "align_items": null,
            "align_self": null,
            "border": null,
            "bottom": null,
            "display": null,
            "flex": null,
            "flex_flow": null,
            "grid_area": null,
            "grid_auto_columns": null,
            "grid_auto_flow": null,
            "grid_auto_rows": null,
            "grid_column": null,
            "grid_gap": null,
            "grid_row": null,
            "grid_template_areas": null,
            "grid_template_columns": null,
            "grid_template_rows": null,
            "height": null,
            "justify_content": null,
            "justify_items": null,
            "left": null,
            "margin": null,
            "max_height": null,
            "max_width": null,
            "min_height": null,
            "min_width": null,
            "object_fit": null,
            "object_position": null,
            "order": null,
            "overflow": null,
            "overflow_x": null,
            "overflow_y": null,
            "padding": null,
            "right": null,
            "top": null,
            "visibility": null,
            "width": null
          }
        },
        "bc703598a0e940f4ab6ead263911fcdc": {
          "model_module": "@jupyter-widgets/controls",
          "model_name": "ProgressStyleModel",
          "model_module_version": "1.5.0",
          "state": {
            "_model_module": "@jupyter-widgets/controls",
            "_model_module_version": "1.5.0",
            "_model_name": "ProgressStyleModel",
            "_view_count": null,
            "_view_module": "@jupyter-widgets/base",
            "_view_module_version": "1.2.0",
            "_view_name": "StyleView",
            "bar_color": null,
            "description_width": ""
          }
        },
        "eaba21da45c647a0944f2be8c6962ba8": {
          "model_module": "@jupyter-widgets/base",
          "model_name": "LayoutModel",
          "model_module_version": "1.2.0",
          "state": {
            "_model_module": "@jupyter-widgets/base",
            "_model_module_version": "1.2.0",
            "_model_name": "LayoutModel",
            "_view_count": null,
            "_view_module": "@jupyter-widgets/base",
            "_view_module_version": "1.2.0",
            "_view_name": "LayoutView",
            "align_content": null,
            "align_items": null,
            "align_self": null,
            "border": null,
            "bottom": null,
            "display": null,
            "flex": null,
            "flex_flow": null,
            "grid_area": null,
            "grid_auto_columns": null,
            "grid_auto_flow": null,
            "grid_auto_rows": null,
            "grid_column": null,
            "grid_gap": null,
            "grid_row": null,
            "grid_template_areas": null,
            "grid_template_columns": null,
            "grid_template_rows": null,
            "height": null,
            "justify_content": null,
            "justify_items": null,
            "left": null,
            "margin": null,
            "max_height": null,
            "max_width": null,
            "min_height": null,
            "min_width": null,
            "object_fit": null,
            "object_position": null,
            "order": null,
            "overflow": null,
            "overflow_x": null,
            "overflow_y": null,
            "padding": null,
            "right": null,
            "top": null,
            "visibility": null,
            "width": null
          }
        },
        "e9ce476597fb4e648bd9fe036cc30e9b": {
          "model_module": "@jupyter-widgets/controls",
          "model_name": "DescriptionStyleModel",
          "model_module_version": "1.5.0",
          "state": {
            "_model_module": "@jupyter-widgets/controls",
            "_model_module_version": "1.5.0",
            "_model_name": "DescriptionStyleModel",
            "_view_count": null,
            "_view_module": "@jupyter-widgets/base",
            "_view_module_version": "1.2.0",
            "_view_name": "StyleView",
            "description_width": ""
          }
        },
        "eb131b288cf2478e90aaf5f27984217e": {
          "model_module": "@jupyter-widgets/controls",
          "model_name": "HBoxModel",
          "model_module_version": "1.5.0",
          "state": {
            "_dom_classes": [],
            "_model_module": "@jupyter-widgets/controls",
            "_model_module_version": "1.5.0",
            "_model_name": "HBoxModel",
            "_view_count": null,
            "_view_module": "@jupyter-widgets/controls",
            "_view_module_version": "1.5.0",
            "_view_name": "HBoxView",
            "box_style": "",
            "children": [
              "IPY_MODEL_e368391b32f8485a861050e3c145838b",
              "IPY_MODEL_b54e341c438e44a5ba962362782ceb40",
              "IPY_MODEL_985bca6fb5144935af586adf4e853149"
            ],
            "layout": "IPY_MODEL_3368a6b0d749489a8e0d4ebd49abf43a"
          }
        },
        "e368391b32f8485a861050e3c145838b": {
          "model_module": "@jupyter-widgets/controls",
          "model_name": "HTMLModel",
          "model_module_version": "1.5.0",
          "state": {
            "_dom_classes": [],
            "_model_module": "@jupyter-widgets/controls",
            "_model_module_version": "1.5.0",
            "_model_name": "HTMLModel",
            "_view_count": null,
            "_view_module": "@jupyter-widgets/controls",
            "_view_module_version": "1.5.0",
            "_view_name": "HTMLView",
            "description": "",
            "description_tooltip": null,
            "layout": "IPY_MODEL_d03186859e97407b869428b129edae2b",
            "placeholder": "​",
            "style": "IPY_MODEL_1e497fb0118a49d399faea9bb78db3d7",
            "value": "(…)-00000-of-00003-c1e4c542ca0d1d39.parquet: 100%"
          }
        },
        "b54e341c438e44a5ba962362782ceb40": {
          "model_module": "@jupyter-widgets/controls",
          "model_name": "FloatProgressModel",
          "model_module_version": "1.5.0",
          "state": {
            "_dom_classes": [],
            "_model_module": "@jupyter-widgets/controls",
            "_model_module_version": "1.5.0",
            "_model_name": "FloatProgressModel",
            "_view_count": null,
            "_view_module": "@jupyter-widgets/controls",
            "_view_module_version": "1.5.0",
            "_view_name": "ProgressView",
            "bar_style": "success",
            "description": "",
            "description_tooltip": null,
            "layout": "IPY_MODEL_6af92221f290409998f773ad344cb20d",
            "max": 147922080,
            "min": 0,
            "orientation": "horizontal",
            "style": "IPY_MODEL_d809a7e6711348478d5dbe1b17d9bac7",
            "value": 147922080
          }
        },
        "985bca6fb5144935af586adf4e853149": {
          "model_module": "@jupyter-widgets/controls",
          "model_name": "HTMLModel",
          "model_module_version": "1.5.0",
          "state": {
            "_dom_classes": [],
            "_model_module": "@jupyter-widgets/controls",
            "_model_module_version": "1.5.0",
            "_model_name": "HTMLModel",
            "_view_count": null,
            "_view_module": "@jupyter-widgets/controls",
            "_view_module_version": "1.5.0",
            "_view_name": "HTMLView",
            "description": "",
            "description_tooltip": null,
            "layout": "IPY_MODEL_a43079c6b073432490471ebb9b727890",
            "placeholder": "​",
            "style": "IPY_MODEL_c384f8cf7bdf403d89d7c06465f84b6d",
            "value": " 148M/148M [00:02&lt;00:00, 102MB/s]"
          }
        },
        "3368a6b0d749489a8e0d4ebd49abf43a": {
          "model_module": "@jupyter-widgets/base",
          "model_name": "LayoutModel",
          "model_module_version": "1.2.0",
          "state": {
            "_model_module": "@jupyter-widgets/base",
            "_model_module_version": "1.2.0",
            "_model_name": "LayoutModel",
            "_view_count": null,
            "_view_module": "@jupyter-widgets/base",
            "_view_module_version": "1.2.0",
            "_view_name": "LayoutView",
            "align_content": null,
            "align_items": null,
            "align_self": null,
            "border": null,
            "bottom": null,
            "display": null,
            "flex": null,
            "flex_flow": null,
            "grid_area": null,
            "grid_auto_columns": null,
            "grid_auto_flow": null,
            "grid_auto_rows": null,
            "grid_column": null,
            "grid_gap": null,
            "grid_row": null,
            "grid_template_areas": null,
            "grid_template_columns": null,
            "grid_template_rows": null,
            "height": null,
            "justify_content": null,
            "justify_items": null,
            "left": null,
            "margin": null,
            "max_height": null,
            "max_width": null,
            "min_height": null,
            "min_width": null,
            "object_fit": null,
            "object_position": null,
            "order": null,
            "overflow": null,
            "overflow_x": null,
            "overflow_y": null,
            "padding": null,
            "right": null,
            "top": null,
            "visibility": null,
            "width": null
          }
        },
        "d03186859e97407b869428b129edae2b": {
          "model_module": "@jupyter-widgets/base",
          "model_name": "LayoutModel",
          "model_module_version": "1.2.0",
          "state": {
            "_model_module": "@jupyter-widgets/base",
            "_model_module_version": "1.2.0",
            "_model_name": "LayoutModel",
            "_view_count": null,
            "_view_module": "@jupyter-widgets/base",
            "_view_module_version": "1.2.0",
            "_view_name": "LayoutView",
            "align_content": null,
            "align_items": null,
            "align_self": null,
            "border": null,
            "bottom": null,
            "display": null,
            "flex": null,
            "flex_flow": null,
            "grid_area": null,
            "grid_auto_columns": null,
            "grid_auto_flow": null,
            "grid_auto_rows": null,
            "grid_column": null,
            "grid_gap": null,
            "grid_row": null,
            "grid_template_areas": null,
            "grid_template_columns": null,
            "grid_template_rows": null,
            "height": null,
            "justify_content": null,
            "justify_items": null,
            "left": null,
            "margin": null,
            "max_height": null,
            "max_width": null,
            "min_height": null,
            "min_width": null,
            "object_fit": null,
            "object_position": null,
            "order": null,
            "overflow": null,
            "overflow_x": null,
            "overflow_y": null,
            "padding": null,
            "right": null,
            "top": null,
            "visibility": null,
            "width": null
          }
        },
        "1e497fb0118a49d399faea9bb78db3d7": {
          "model_module": "@jupyter-widgets/controls",
          "model_name": "DescriptionStyleModel",
          "model_module_version": "1.5.0",
          "state": {
            "_model_module": "@jupyter-widgets/controls",
            "_model_module_version": "1.5.0",
            "_model_name": "DescriptionStyleModel",
            "_view_count": null,
            "_view_module": "@jupyter-widgets/base",
            "_view_module_version": "1.2.0",
            "_view_name": "StyleView",
            "description_width": ""
          }
        },
        "6af92221f290409998f773ad344cb20d": {
          "model_module": "@jupyter-widgets/base",
          "model_name": "LayoutModel",
          "model_module_version": "1.2.0",
          "state": {
            "_model_module": "@jupyter-widgets/base",
            "_model_module_version": "1.2.0",
            "_model_name": "LayoutModel",
            "_view_count": null,
            "_view_module": "@jupyter-widgets/base",
            "_view_module_version": "1.2.0",
            "_view_name": "LayoutView",
            "align_content": null,
            "align_items": null,
            "align_self": null,
            "border": null,
            "bottom": null,
            "display": null,
            "flex": null,
            "flex_flow": null,
            "grid_area": null,
            "grid_auto_columns": null,
            "grid_auto_flow": null,
            "grid_auto_rows": null,
            "grid_column": null,
            "grid_gap": null,
            "grid_row": null,
            "grid_template_areas": null,
            "grid_template_columns": null,
            "grid_template_rows": null,
            "height": null,
            "justify_content": null,
            "justify_items": null,
            "left": null,
            "margin": null,
            "max_height": null,
            "max_width": null,
            "min_height": null,
            "min_width": null,
            "object_fit": null,
            "object_position": null,
            "order": null,
            "overflow": null,
            "overflow_x": null,
            "overflow_y": null,
            "padding": null,
            "right": null,
            "top": null,
            "visibility": null,
            "width": null
          }
        },
        "d809a7e6711348478d5dbe1b17d9bac7": {
          "model_module": "@jupyter-widgets/controls",
          "model_name": "ProgressStyleModel",
          "model_module_version": "1.5.0",
          "state": {
            "_model_module": "@jupyter-widgets/controls",
            "_model_module_version": "1.5.0",
            "_model_name": "ProgressStyleModel",
            "_view_count": null,
            "_view_module": "@jupyter-widgets/base",
            "_view_module_version": "1.2.0",
            "_view_name": "StyleView",
            "bar_color": null,
            "description_width": ""
          }
        },
        "a43079c6b073432490471ebb9b727890": {
          "model_module": "@jupyter-widgets/base",
          "model_name": "LayoutModel",
          "model_module_version": "1.2.0",
          "state": {
            "_model_module": "@jupyter-widgets/base",
            "_model_module_version": "1.2.0",
            "_model_name": "LayoutModel",
            "_view_count": null,
            "_view_module": "@jupyter-widgets/base",
            "_view_module_version": "1.2.0",
            "_view_name": "LayoutView",
            "align_content": null,
            "align_items": null,
            "align_self": null,
            "border": null,
            "bottom": null,
            "display": null,
            "flex": null,
            "flex_flow": null,
            "grid_area": null,
            "grid_auto_columns": null,
            "grid_auto_flow": null,
            "grid_auto_rows": null,
            "grid_column": null,
            "grid_gap": null,
            "grid_row": null,
            "grid_template_areas": null,
            "grid_template_columns": null,
            "grid_template_rows": null,
            "height": null,
            "justify_content": null,
            "justify_items": null,
            "left": null,
            "margin": null,
            "max_height": null,
            "max_width": null,
            "min_height": null,
            "min_width": null,
            "object_fit": null,
            "object_position": null,
            "order": null,
            "overflow": null,
            "overflow_x": null,
            "overflow_y": null,
            "padding": null,
            "right": null,
            "top": null,
            "visibility": null,
            "width": null
          }
        },
        "c384f8cf7bdf403d89d7c06465f84b6d": {
          "model_module": "@jupyter-widgets/controls",
          "model_name": "DescriptionStyleModel",
          "model_module_version": "1.5.0",
          "state": {
            "_model_module": "@jupyter-widgets/controls",
            "_model_module_version": "1.5.0",
            "_model_name": "DescriptionStyleModel",
            "_view_count": null,
            "_view_module": "@jupyter-widgets/base",
            "_view_module_version": "1.2.0",
            "_view_name": "StyleView",
            "description_width": ""
          }
        },
        "89d62163184b4a398a2c8dd0009dc835": {
          "model_module": "@jupyter-widgets/controls",
          "model_name": "HBoxModel",
          "model_module_version": "1.5.0",
          "state": {
            "_dom_classes": [],
            "_model_module": "@jupyter-widgets/controls",
            "_model_module_version": "1.5.0",
            "_model_name": "HBoxModel",
            "_view_count": null,
            "_view_module": "@jupyter-widgets/controls",
            "_view_module_version": "1.5.0",
            "_view_name": "HBoxView",
            "box_style": "",
            "children": [
              "IPY_MODEL_b176790deb034233a6d624b16851c695",
              "IPY_MODEL_37e3497998c14ff8a32b622d5d91cc9b",
              "IPY_MODEL_5dedfc8e875f4ec4abc9a41d2cdd2470"
            ],
            "layout": "IPY_MODEL_580c2484199f4430a341926e8351512b"
          }
        },
        "b176790deb034233a6d624b16851c695": {
          "model_module": "@jupyter-widgets/controls",
          "model_name": "HTMLModel",
          "model_module_version": "1.5.0",
          "state": {
            "_dom_classes": [],
            "_model_module": "@jupyter-widgets/controls",
            "_model_module_version": "1.5.0",
            "_model_name": "HTMLModel",
            "_view_count": null,
            "_view_module": "@jupyter-widgets/controls",
            "_view_module_version": "1.5.0",
            "_view_name": "HTMLView",
            "description": "",
            "description_tooltip": null,
            "layout": "IPY_MODEL_661c8a76a14641d987ff9daa0b1d243b",
            "placeholder": "​",
            "style": "IPY_MODEL_f1524a01cd1c4c82adc98b7bafdd572a",
            "value": "(…)-00001-of-00003-a430d125387c285c.parquet: 100%"
          }
        },
        "37e3497998c14ff8a32b622d5d91cc9b": {
          "model_module": "@jupyter-widgets/controls",
          "model_name": "FloatProgressModel",
          "model_module_version": "1.5.0",
          "state": {
            "_dom_classes": [],
            "_model_module": "@jupyter-widgets/controls",
            "_model_module_version": "1.5.0",
            "_model_name": "FloatProgressModel",
            "_view_count": null,
            "_view_module": "@jupyter-widgets/controls",
            "_view_module_version": "1.5.0",
            "_view_name": "ProgressView",
            "bar_style": "success",
            "description": "",
            "description_tooltip": null,
            "layout": "IPY_MODEL_f4b3d9ca6e89428b8727bcb730d7eee7",
            "max": 199889643,
            "min": 0,
            "orientation": "horizontal",
            "style": "IPY_MODEL_d1948decade34183b9238a0f9c6950e5",
            "value": 199889643
          }
        },
        "5dedfc8e875f4ec4abc9a41d2cdd2470": {
          "model_module": "@jupyter-widgets/controls",
          "model_name": "HTMLModel",
          "model_module_version": "1.5.0",
          "state": {
            "_dom_classes": [],
            "_model_module": "@jupyter-widgets/controls",
            "_model_module_version": "1.5.0",
            "_model_name": "HTMLModel",
            "_view_count": null,
            "_view_module": "@jupyter-widgets/controls",
            "_view_module_version": "1.5.0",
            "_view_name": "HTMLView",
            "description": "",
            "description_tooltip": null,
            "layout": "IPY_MODEL_8ebb8ee415534bafaa2266cd792a1315",
            "placeholder": "​",
            "style": "IPY_MODEL_2823c50ec3254dc48c9ccd71a33322f9",
            "value": " 200M/200M [00:01&lt;00:00, 147MB/s]"
          }
        },
        "580c2484199f4430a341926e8351512b": {
          "model_module": "@jupyter-widgets/base",
          "model_name": "LayoutModel",
          "model_module_version": "1.2.0",
          "state": {
            "_model_module": "@jupyter-widgets/base",
            "_model_module_version": "1.2.0",
            "_model_name": "LayoutModel",
            "_view_count": null,
            "_view_module": "@jupyter-widgets/base",
            "_view_module_version": "1.2.0",
            "_view_name": "LayoutView",
            "align_content": null,
            "align_items": null,
            "align_self": null,
            "border": null,
            "bottom": null,
            "display": null,
            "flex": null,
            "flex_flow": null,
            "grid_area": null,
            "grid_auto_columns": null,
            "grid_auto_flow": null,
            "grid_auto_rows": null,
            "grid_column": null,
            "grid_gap": null,
            "grid_row": null,
            "grid_template_areas": null,
            "grid_template_columns": null,
            "grid_template_rows": null,
            "height": null,
            "justify_content": null,
            "justify_items": null,
            "left": null,
            "margin": null,
            "max_height": null,
            "max_width": null,
            "min_height": null,
            "min_width": null,
            "object_fit": null,
            "object_position": null,
            "order": null,
            "overflow": null,
            "overflow_x": null,
            "overflow_y": null,
            "padding": null,
            "right": null,
            "top": null,
            "visibility": null,
            "width": null
          }
        },
        "661c8a76a14641d987ff9daa0b1d243b": {
          "model_module": "@jupyter-widgets/base",
          "model_name": "LayoutModel",
          "model_module_version": "1.2.0",
          "state": {
            "_model_module": "@jupyter-widgets/base",
            "_model_module_version": "1.2.0",
            "_model_name": "LayoutModel",
            "_view_count": null,
            "_view_module": "@jupyter-widgets/base",
            "_view_module_version": "1.2.0",
            "_view_name": "LayoutView",
            "align_content": null,
            "align_items": null,
            "align_self": null,
            "border": null,
            "bottom": null,
            "display": null,
            "flex": null,
            "flex_flow": null,
            "grid_area": null,
            "grid_auto_columns": null,
            "grid_auto_flow": null,
            "grid_auto_rows": null,
            "grid_column": null,
            "grid_gap": null,
            "grid_row": null,
            "grid_template_areas": null,
            "grid_template_columns": null,
            "grid_template_rows": null,
            "height": null,
            "justify_content": null,
            "justify_items": null,
            "left": null,
            "margin": null,
            "max_height": null,
            "max_width": null,
            "min_height": null,
            "min_width": null,
            "object_fit": null,
            "object_position": null,
            "order": null,
            "overflow": null,
            "overflow_x": null,
            "overflow_y": null,
            "padding": null,
            "right": null,
            "top": null,
            "visibility": null,
            "width": null
          }
        },
        "f1524a01cd1c4c82adc98b7bafdd572a": {
          "model_module": "@jupyter-widgets/controls",
          "model_name": "DescriptionStyleModel",
          "model_module_version": "1.5.0",
          "state": {
            "_model_module": "@jupyter-widgets/controls",
            "_model_module_version": "1.5.0",
            "_model_name": "DescriptionStyleModel",
            "_view_count": null,
            "_view_module": "@jupyter-widgets/base",
            "_view_module_version": "1.2.0",
            "_view_name": "StyleView",
            "description_width": ""
          }
        },
        "f4b3d9ca6e89428b8727bcb730d7eee7": {
          "model_module": "@jupyter-widgets/base",
          "model_name": "LayoutModel",
          "model_module_version": "1.2.0",
          "state": {
            "_model_module": "@jupyter-widgets/base",
            "_model_module_version": "1.2.0",
            "_model_name": "LayoutModel",
            "_view_count": null,
            "_view_module": "@jupyter-widgets/base",
            "_view_module_version": "1.2.0",
            "_view_name": "LayoutView",
            "align_content": null,
            "align_items": null,
            "align_self": null,
            "border": null,
            "bottom": null,
            "display": null,
            "flex": null,
            "flex_flow": null,
            "grid_area": null,
            "grid_auto_columns": null,
            "grid_auto_flow": null,
            "grid_auto_rows": null,
            "grid_column": null,
            "grid_gap": null,
            "grid_row": null,
            "grid_template_areas": null,
            "grid_template_columns": null,
            "grid_template_rows": null,
            "height": null,
            "justify_content": null,
            "justify_items": null,
            "left": null,
            "margin": null,
            "max_height": null,
            "max_width": null,
            "min_height": null,
            "min_width": null,
            "object_fit": null,
            "object_position": null,
            "order": null,
            "overflow": null,
            "overflow_x": null,
            "overflow_y": null,
            "padding": null,
            "right": null,
            "top": null,
            "visibility": null,
            "width": null
          }
        },
        "d1948decade34183b9238a0f9c6950e5": {
          "model_module": "@jupyter-widgets/controls",
          "model_name": "ProgressStyleModel",
          "model_module_version": "1.5.0",
          "state": {
            "_model_module": "@jupyter-widgets/controls",
            "_model_module_version": "1.5.0",
            "_model_name": "ProgressStyleModel",
            "_view_count": null,
            "_view_module": "@jupyter-widgets/base",
            "_view_module_version": "1.2.0",
            "_view_name": "StyleView",
            "bar_color": null,
            "description_width": ""
          }
        },
        "8ebb8ee415534bafaa2266cd792a1315": {
          "model_module": "@jupyter-widgets/base",
          "model_name": "LayoutModel",
          "model_module_version": "1.2.0",
          "state": {
            "_model_module": "@jupyter-widgets/base",
            "_model_module_version": "1.2.0",
            "_model_name": "LayoutModel",
            "_view_count": null,
            "_view_module": "@jupyter-widgets/base",
            "_view_module_version": "1.2.0",
            "_view_name": "LayoutView",
            "align_content": null,
            "align_items": null,
            "align_self": null,
            "border": null,
            "bottom": null,
            "display": null,
            "flex": null,
            "flex_flow": null,
            "grid_area": null,
            "grid_auto_columns": null,
            "grid_auto_flow": null,
            "grid_auto_rows": null,
            "grid_column": null,
            "grid_gap": null,
            "grid_row": null,
            "grid_template_areas": null,
            "grid_template_columns": null,
            "grid_template_rows": null,
            "height": null,
            "justify_content": null,
            "justify_items": null,
            "left": null,
            "margin": null,
            "max_height": null,
            "max_width": null,
            "min_height": null,
            "min_width": null,
            "object_fit": null,
            "object_position": null,
            "order": null,
            "overflow": null,
            "overflow_x": null,
            "overflow_y": null,
            "padding": null,
            "right": null,
            "top": null,
            "visibility": null,
            "width": null
          }
        },
        "2823c50ec3254dc48c9ccd71a33322f9": {
          "model_module": "@jupyter-widgets/controls",
          "model_name": "DescriptionStyleModel",
          "model_module_version": "1.5.0",
          "state": {
            "_model_module": "@jupyter-widgets/controls",
            "_model_module_version": "1.5.0",
            "_model_name": "DescriptionStyleModel",
            "_view_count": null,
            "_view_module": "@jupyter-widgets/base",
            "_view_module_version": "1.2.0",
            "_view_name": "StyleView",
            "description_width": ""
          }
        },
        "6f9bd28bee1d4aecb75afdc2f24b11fa": {
          "model_module": "@jupyter-widgets/controls",
          "model_name": "HBoxModel",
          "model_module_version": "1.5.0",
          "state": {
            "_dom_classes": [],
            "_model_module": "@jupyter-widgets/controls",
            "_model_module_version": "1.5.0",
            "_model_name": "HBoxModel",
            "_view_count": null,
            "_view_module": "@jupyter-widgets/controls",
            "_view_module_version": "1.5.0",
            "_view_name": "HBoxView",
            "box_style": "",
            "children": [
              "IPY_MODEL_bf0c52ce2c6d41d69aab1340d250a0d6",
              "IPY_MODEL_4757e3a6b7b848609dd3e4b7a9eda35a",
              "IPY_MODEL_c63a7a031d29465e83cf8d759c89c63e"
            ],
            "layout": "IPY_MODEL_58d5f3f5c6f5461280bf7ed0c04d913e"
          }
        },
        "bf0c52ce2c6d41d69aab1340d250a0d6": {
          "model_module": "@jupyter-widgets/controls",
          "model_name": "HTMLModel",
          "model_module_version": "1.5.0",
          "state": {
            "_dom_classes": [],
            "_model_module": "@jupyter-widgets/controls",
            "_model_module_version": "1.5.0",
            "_model_name": "HTMLModel",
            "_view_count": null,
            "_view_module": "@jupyter-widgets/controls",
            "_view_module_version": "1.5.0",
            "_view_name": "HTMLView",
            "description": "",
            "description_tooltip": null,
            "layout": "IPY_MODEL_625fd1780a4c46dca8c0e333077f761c",
            "placeholder": "​",
            "style": "IPY_MODEL_cf74a035e54a4c438892b175b5395134",
            "value": "(…)-00002-of-00003-8ac145308ccb0c49.parquet: 100%"
          }
        },
        "4757e3a6b7b848609dd3e4b7a9eda35a": {
          "model_module": "@jupyter-widgets/controls",
          "model_name": "FloatProgressModel",
          "model_module_version": "1.5.0",
          "state": {
            "_dom_classes": [],
            "_model_module": "@jupyter-widgets/controls",
            "_model_module_version": "1.5.0",
            "_model_name": "FloatProgressModel",
            "_view_count": null,
            "_view_module": "@jupyter-widgets/controls",
            "_view_module_version": "1.5.0",
            "_view_name": "ProgressView",
            "bar_style": "success",
            "description": "",
            "description_tooltip": null,
            "layout": "IPY_MODEL_eee2c66bdb72462f95f586456704ea87",
            "max": 189943120,
            "min": 0,
            "orientation": "horizontal",
            "style": "IPY_MODEL_537ec610de964dc88e7e5a069af85b10",
            "value": 189943120
          }
        },
        "c63a7a031d29465e83cf8d759c89c63e": {
          "model_module": "@jupyter-widgets/controls",
          "model_name": "HTMLModel",
          "model_module_version": "1.5.0",
          "state": {
            "_dom_classes": [],
            "_model_module": "@jupyter-widgets/controls",
            "_model_module_version": "1.5.0",
            "_model_name": "HTMLModel",
            "_view_count": null,
            "_view_module": "@jupyter-widgets/controls",
            "_view_module_version": "1.5.0",
            "_view_name": "HTMLView",
            "description": "",
            "description_tooltip": null,
            "layout": "IPY_MODEL_fcf34411ba34499188e4d0d2151708f0",
            "placeholder": "​",
            "style": "IPY_MODEL_18237d4ed874488ba2c8c70fbb9a5636",
            "value": " 190M/190M [00:01&lt;00:00, 137MB/s]"
          }
        },
        "58d5f3f5c6f5461280bf7ed0c04d913e": {
          "model_module": "@jupyter-widgets/base",
          "model_name": "LayoutModel",
          "model_module_version": "1.2.0",
          "state": {
            "_model_module": "@jupyter-widgets/base",
            "_model_module_version": "1.2.0",
            "_model_name": "LayoutModel",
            "_view_count": null,
            "_view_module": "@jupyter-widgets/base",
            "_view_module_version": "1.2.0",
            "_view_name": "LayoutView",
            "align_content": null,
            "align_items": null,
            "align_self": null,
            "border": null,
            "bottom": null,
            "display": null,
            "flex": null,
            "flex_flow": null,
            "grid_area": null,
            "grid_auto_columns": null,
            "grid_auto_flow": null,
            "grid_auto_rows": null,
            "grid_column": null,
            "grid_gap": null,
            "grid_row": null,
            "grid_template_areas": null,
            "grid_template_columns": null,
            "grid_template_rows": null,
            "height": null,
            "justify_content": null,
            "justify_items": null,
            "left": null,
            "margin": null,
            "max_height": null,
            "max_width": null,
            "min_height": null,
            "min_width": null,
            "object_fit": null,
            "object_position": null,
            "order": null,
            "overflow": null,
            "overflow_x": null,
            "overflow_y": null,
            "padding": null,
            "right": null,
            "top": null,
            "visibility": null,
            "width": null
          }
        },
        "625fd1780a4c46dca8c0e333077f761c": {
          "model_module": "@jupyter-widgets/base",
          "model_name": "LayoutModel",
          "model_module_version": "1.2.0",
          "state": {
            "_model_module": "@jupyter-widgets/base",
            "_model_module_version": "1.2.0",
            "_model_name": "LayoutModel",
            "_view_count": null,
            "_view_module": "@jupyter-widgets/base",
            "_view_module_version": "1.2.0",
            "_view_name": "LayoutView",
            "align_content": null,
            "align_items": null,
            "align_self": null,
            "border": null,
            "bottom": null,
            "display": null,
            "flex": null,
            "flex_flow": null,
            "grid_area": null,
            "grid_auto_columns": null,
            "grid_auto_flow": null,
            "grid_auto_rows": null,
            "grid_column": null,
            "grid_gap": null,
            "grid_row": null,
            "grid_template_areas": null,
            "grid_template_columns": null,
            "grid_template_rows": null,
            "height": null,
            "justify_content": null,
            "justify_items": null,
            "left": null,
            "margin": null,
            "max_height": null,
            "max_width": null,
            "min_height": null,
            "min_width": null,
            "object_fit": null,
            "object_position": null,
            "order": null,
            "overflow": null,
            "overflow_x": null,
            "overflow_y": null,
            "padding": null,
            "right": null,
            "top": null,
            "visibility": null,
            "width": null
          }
        },
        "cf74a035e54a4c438892b175b5395134": {
          "model_module": "@jupyter-widgets/controls",
          "model_name": "DescriptionStyleModel",
          "model_module_version": "1.5.0",
          "state": {
            "_model_module": "@jupyter-widgets/controls",
            "_model_module_version": "1.5.0",
            "_model_name": "DescriptionStyleModel",
            "_view_count": null,
            "_view_module": "@jupyter-widgets/base",
            "_view_module_version": "1.2.0",
            "_view_name": "StyleView",
            "description_width": ""
          }
        },
        "eee2c66bdb72462f95f586456704ea87": {
          "model_module": "@jupyter-widgets/base",
          "model_name": "LayoutModel",
          "model_module_version": "1.2.0",
          "state": {
            "_model_module": "@jupyter-widgets/base",
            "_model_module_version": "1.2.0",
            "_model_name": "LayoutModel",
            "_view_count": null,
            "_view_module": "@jupyter-widgets/base",
            "_view_module_version": "1.2.0",
            "_view_name": "LayoutView",
            "align_content": null,
            "align_items": null,
            "align_self": null,
            "border": null,
            "bottom": null,
            "display": null,
            "flex": null,
            "flex_flow": null,
            "grid_area": null,
            "grid_auto_columns": null,
            "grid_auto_flow": null,
            "grid_auto_rows": null,
            "grid_column": null,
            "grid_gap": null,
            "grid_row": null,
            "grid_template_areas": null,
            "grid_template_columns": null,
            "grid_template_rows": null,
            "height": null,
            "justify_content": null,
            "justify_items": null,
            "left": null,
            "margin": null,
            "max_height": null,
            "max_width": null,
            "min_height": null,
            "min_width": null,
            "object_fit": null,
            "object_position": null,
            "order": null,
            "overflow": null,
            "overflow_x": null,
            "overflow_y": null,
            "padding": null,
            "right": null,
            "top": null,
            "visibility": null,
            "width": null
          }
        },
        "537ec610de964dc88e7e5a069af85b10": {
          "model_module": "@jupyter-widgets/controls",
          "model_name": "ProgressStyleModel",
          "model_module_version": "1.5.0",
          "state": {
            "_model_module": "@jupyter-widgets/controls",
            "_model_module_version": "1.5.0",
            "_model_name": "ProgressStyleModel",
            "_view_count": null,
            "_view_module": "@jupyter-widgets/base",
            "_view_module_version": "1.2.0",
            "_view_name": "StyleView",
            "bar_color": null,
            "description_width": ""
          }
        },
        "fcf34411ba34499188e4d0d2151708f0": {
          "model_module": "@jupyter-widgets/base",
          "model_name": "LayoutModel",
          "model_module_version": "1.2.0",
          "state": {
            "_model_module": "@jupyter-widgets/base",
            "_model_module_version": "1.2.0",
            "_model_name": "LayoutModel",
            "_view_count": null,
            "_view_module": "@jupyter-widgets/base",
            "_view_module_version": "1.2.0",
            "_view_name": "LayoutView",
            "align_content": null,
            "align_items": null,
            "align_self": null,
            "border": null,
            "bottom": null,
            "display": null,
            "flex": null,
            "flex_flow": null,
            "grid_area": null,
            "grid_auto_columns": null,
            "grid_auto_flow": null,
            "grid_auto_rows": null,
            "grid_column": null,
            "grid_gap": null,
            "grid_row": null,
            "grid_template_areas": null,
            "grid_template_columns": null,
            "grid_template_rows": null,
            "height": null,
            "justify_content": null,
            "justify_items": null,
            "left": null,
            "margin": null,
            "max_height": null,
            "max_width": null,
            "min_height": null,
            "min_width": null,
            "object_fit": null,
            "object_position": null,
            "order": null,
            "overflow": null,
            "overflow_x": null,
            "overflow_y": null,
            "padding": null,
            "right": null,
            "top": null,
            "visibility": null,
            "width": null
          }
        },
        "18237d4ed874488ba2c8c70fbb9a5636": {
          "model_module": "@jupyter-widgets/controls",
          "model_name": "DescriptionStyleModel",
          "model_module_version": "1.5.0",
          "state": {
            "_model_module": "@jupyter-widgets/controls",
            "_model_module_version": "1.5.0",
            "_model_name": "DescriptionStyleModel",
            "_view_count": null,
            "_view_module": "@jupyter-widgets/base",
            "_view_module_version": "1.2.0",
            "_view_name": "StyleView",
            "description_width": ""
          }
        },
        "a20b441d659747d7b768945a85d3bf46": {
          "model_module": "@jupyter-widgets/controls",
          "model_name": "HBoxModel",
          "model_module_version": "1.5.0",
          "state": {
            "_dom_classes": [],
            "_model_module": "@jupyter-widgets/controls",
            "_model_module_version": "1.5.0",
            "_model_name": "HBoxModel",
            "_view_count": null,
            "_view_module": "@jupyter-widgets/controls",
            "_view_module_version": "1.5.0",
            "_view_name": "HBoxView",
            "box_style": "",
            "children": [
              "IPY_MODEL_ed53477b1e7b4760b61893978c4b46f8",
              "IPY_MODEL_ca45c71add5043fe944276c3ab2848b5",
              "IPY_MODEL_e799e83ff5a14c71ba98a51f14e11e68"
            ],
            "layout": "IPY_MODEL_9a95c978a8894d8785dd21d12f16899c"
          }
        },
        "ed53477b1e7b4760b61893978c4b46f8": {
          "model_module": "@jupyter-widgets/controls",
          "model_name": "HTMLModel",
          "model_module_version": "1.5.0",
          "state": {
            "_dom_classes": [],
            "_model_module": "@jupyter-widgets/controls",
            "_model_module_version": "1.5.0",
            "_model_name": "HTMLModel",
            "_view_count": null,
            "_view_module": "@jupyter-widgets/controls",
            "_view_module_version": "1.5.0",
            "_view_name": "HTMLView",
            "description": "",
            "description_tooltip": null,
            "layout": "IPY_MODEL_0effbbe772d0485b8324a9997bd24373",
            "placeholder": "​",
            "style": "IPY_MODEL_ea931b543e6e4426b207ae5054adc122",
            "value": "Generating train split: 100%"
          }
        },
        "ca45c71add5043fe944276c3ab2848b5": {
          "model_module": "@jupyter-widgets/controls",
          "model_name": "FloatProgressModel",
          "model_module_version": "1.5.0",
          "state": {
            "_dom_classes": [],
            "_model_module": "@jupyter-widgets/controls",
            "_model_module_version": "1.5.0",
            "_model_name": "FloatProgressModel",
            "_view_count": null,
            "_view_module": "@jupyter-widgets/controls",
            "_view_module_version": "1.5.0",
            "_view_name": "ProgressView",
            "bar_style": "success",
            "description": "",
            "description_tooltip": null,
            "layout": "IPY_MODEL_7518943e406d4decbac36875a965fdcc",
            "max": 133438,
            "min": 0,
            "orientation": "horizontal",
            "style": "IPY_MODEL_88f0f0cf13204e7cb66e4c0dfdc78fa3",
            "value": 133438
          }
        },
        "e799e83ff5a14c71ba98a51f14e11e68": {
          "model_module": "@jupyter-widgets/controls",
          "model_name": "HTMLModel",
          "model_module_version": "1.5.0",
          "state": {
            "_dom_classes": [],
            "_model_module": "@jupyter-widgets/controls",
            "_model_module_version": "1.5.0",
            "_model_name": "HTMLModel",
            "_view_count": null,
            "_view_module": "@jupyter-widgets/controls",
            "_view_module_version": "1.5.0",
            "_view_name": "HTMLView",
            "description": "",
            "description_tooltip": null,
            "layout": "IPY_MODEL_c6bf3ce364b94e9281e983fc798eb334",
            "placeholder": "​",
            "style": "IPY_MODEL_879145c3bd304f759ab74dc0c0da89b2",
            "value": " 133438/133438 [00:13&lt;00:00, 9303.15 examples/s]"
          }
        },
        "9a95c978a8894d8785dd21d12f16899c": {
          "model_module": "@jupyter-widgets/base",
          "model_name": "LayoutModel",
          "model_module_version": "1.2.0",
          "state": {
            "_model_module": "@jupyter-widgets/base",
            "_model_module_version": "1.2.0",
            "_model_name": "LayoutModel",
            "_view_count": null,
            "_view_module": "@jupyter-widgets/base",
            "_view_module_version": "1.2.0",
            "_view_name": "LayoutView",
            "align_content": null,
            "align_items": null,
            "align_self": null,
            "border": null,
            "bottom": null,
            "display": null,
            "flex": null,
            "flex_flow": null,
            "grid_area": null,
            "grid_auto_columns": null,
            "grid_auto_flow": null,
            "grid_auto_rows": null,
            "grid_column": null,
            "grid_gap": null,
            "grid_row": null,
            "grid_template_areas": null,
            "grid_template_columns": null,
            "grid_template_rows": null,
            "height": null,
            "justify_content": null,
            "justify_items": null,
            "left": null,
            "margin": null,
            "max_height": null,
            "max_width": null,
            "min_height": null,
            "min_width": null,
            "object_fit": null,
            "object_position": null,
            "order": null,
            "overflow": null,
            "overflow_x": null,
            "overflow_y": null,
            "padding": null,
            "right": null,
            "top": null,
            "visibility": null,
            "width": null
          }
        },
        "0effbbe772d0485b8324a9997bd24373": {
          "model_module": "@jupyter-widgets/base",
          "model_name": "LayoutModel",
          "model_module_version": "1.2.0",
          "state": {
            "_model_module": "@jupyter-widgets/base",
            "_model_module_version": "1.2.0",
            "_model_name": "LayoutModel",
            "_view_count": null,
            "_view_module": "@jupyter-widgets/base",
            "_view_module_version": "1.2.0",
            "_view_name": "LayoutView",
            "align_content": null,
            "align_items": null,
            "align_self": null,
            "border": null,
            "bottom": null,
            "display": null,
            "flex": null,
            "flex_flow": null,
            "grid_area": null,
            "grid_auto_columns": null,
            "grid_auto_flow": null,
            "grid_auto_rows": null,
            "grid_column": null,
            "grid_gap": null,
            "grid_row": null,
            "grid_template_areas": null,
            "grid_template_columns": null,
            "grid_template_rows": null,
            "height": null,
            "justify_content": null,
            "justify_items": null,
            "left": null,
            "margin": null,
            "max_height": null,
            "max_width": null,
            "min_height": null,
            "min_width": null,
            "object_fit": null,
            "object_position": null,
            "order": null,
            "overflow": null,
            "overflow_x": null,
            "overflow_y": null,
            "padding": null,
            "right": null,
            "top": null,
            "visibility": null,
            "width": null
          }
        },
        "ea931b543e6e4426b207ae5054adc122": {
          "model_module": "@jupyter-widgets/controls",
          "model_name": "DescriptionStyleModel",
          "model_module_version": "1.5.0",
          "state": {
            "_model_module": "@jupyter-widgets/controls",
            "_model_module_version": "1.5.0",
            "_model_name": "DescriptionStyleModel",
            "_view_count": null,
            "_view_module": "@jupyter-widgets/base",
            "_view_module_version": "1.2.0",
            "_view_name": "StyleView",
            "description_width": ""
          }
        },
        "7518943e406d4decbac36875a965fdcc": {
          "model_module": "@jupyter-widgets/base",
          "model_name": "LayoutModel",
          "model_module_version": "1.2.0",
          "state": {
            "_model_module": "@jupyter-widgets/base",
            "_model_module_version": "1.2.0",
            "_model_name": "LayoutModel",
            "_view_count": null,
            "_view_module": "@jupyter-widgets/base",
            "_view_module_version": "1.2.0",
            "_view_name": "LayoutView",
            "align_content": null,
            "align_items": null,
            "align_self": null,
            "border": null,
            "bottom": null,
            "display": null,
            "flex": null,
            "flex_flow": null,
            "grid_area": null,
            "grid_auto_columns": null,
            "grid_auto_flow": null,
            "grid_auto_rows": null,
            "grid_column": null,
            "grid_gap": null,
            "grid_row": null,
            "grid_template_areas": null,
            "grid_template_columns": null,
            "grid_template_rows": null,
            "height": null,
            "justify_content": null,
            "justify_items": null,
            "left": null,
            "margin": null,
            "max_height": null,
            "max_width": null,
            "min_height": null,
            "min_width": null,
            "object_fit": null,
            "object_position": null,
            "order": null,
            "overflow": null,
            "overflow_x": null,
            "overflow_y": null,
            "padding": null,
            "right": null,
            "top": null,
            "visibility": null,
            "width": null
          }
        },
        "88f0f0cf13204e7cb66e4c0dfdc78fa3": {
          "model_module": "@jupyter-widgets/controls",
          "model_name": "ProgressStyleModel",
          "model_module_version": "1.5.0",
          "state": {
            "_model_module": "@jupyter-widgets/controls",
            "_model_module_version": "1.5.0",
            "_model_name": "ProgressStyleModel",
            "_view_count": null,
            "_view_module": "@jupyter-widgets/base",
            "_view_module_version": "1.2.0",
            "_view_name": "StyleView",
            "bar_color": null,
            "description_width": ""
          }
        },
        "c6bf3ce364b94e9281e983fc798eb334": {
          "model_module": "@jupyter-widgets/base",
          "model_name": "LayoutModel",
          "model_module_version": "1.2.0",
          "state": {
            "_model_module": "@jupyter-widgets/base",
            "_model_module_version": "1.2.0",
            "_model_name": "LayoutModel",
            "_view_count": null,
            "_view_module": "@jupyter-widgets/base",
            "_view_module_version": "1.2.0",
            "_view_name": "LayoutView",
            "align_content": null,
            "align_items": null,
            "align_self": null,
            "border": null,
            "bottom": null,
            "display": null,
            "flex": null,
            "flex_flow": null,
            "grid_area": null,
            "grid_auto_columns": null,
            "grid_auto_flow": null,
            "grid_auto_rows": null,
            "grid_column": null,
            "grid_gap": null,
            "grid_row": null,
            "grid_template_areas": null,
            "grid_template_columns": null,
            "grid_template_rows": null,
            "height": null,
            "justify_content": null,
            "justify_items": null,
            "left": null,
            "margin": null,
            "max_height": null,
            "max_width": null,
            "min_height": null,
            "min_width": null,
            "object_fit": null,
            "object_position": null,
            "order": null,
            "overflow": null,
            "overflow_x": null,
            "overflow_y": null,
            "padding": null,
            "right": null,
            "top": null,
            "visibility": null,
            "width": null
          }
        },
        "879145c3bd304f759ab74dc0c0da89b2": {
          "model_module": "@jupyter-widgets/controls",
          "model_name": "DescriptionStyleModel",
          "model_module_version": "1.5.0",
          "state": {
            "_model_module": "@jupyter-widgets/controls",
            "_model_module_version": "1.5.0",
            "_model_name": "DescriptionStyleModel",
            "_view_count": null,
            "_view_module": "@jupyter-widgets/base",
            "_view_module_version": "1.2.0",
            "_view_name": "StyleView",
            "description_width": ""
          }
        }
      }
    }
  },
  "cells": [
    {
      "cell_type": "markdown",
      "source": [
        "## RNN FOR SENTIMENT ANALYSIS: A TUTORIAL OF KERAS"
      ],
      "metadata": {
        "id": "CUbXLSD-kqK2"
      }
    },
    {
      "cell_type": "markdown",
      "source": [
        "![image.png](data:image/png;base64,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)"
      ],
      "metadata": {
        "id": "cWvZi0Nki0lu"
      }
    },
    {
      "cell_type": "code",
      "execution_count": null,
      "metadata": {
        "id": "9fIA8RS8Xjdn"
      },
      "outputs": [],
      "source": [
        "# Import required libs\n",
        "from keras.layers import Input\n",
        "from keras import layers\n",
        "from keras.models import load_model, Sequential, Model\n",
        "from keras.preprocessing import sequence\n",
        "from keras.datasets import imdb"
      ]
    },
    {
      "cell_type": "code",
      "source": [
        "vocab_size = 5000  # Vocabulary size\n",
        "(x_train, y_train), (x_test, y_test) = imdb.load_data(num_words=vocab_size)"
      ],
      "metadata": {
        "colab": {
          "base_uri": "https://localhost:8080/"
        },
        "id": "xIS-lUpXXkXp",
        "outputId": "585f9787-5713-4e05-a160-c0ea0cef1039"
      },
      "execution_count": null,
      "outputs": [
        {
          "output_type": "stream",
          "name": "stdout",
          "text": [
            "Downloading data from https://storage.googleapis.com/tensorflow/tf-keras-datasets/imdb.npz\n",
            "17464789/17464789 [==============================] - 0s 0us/step\n"
          ]
        }
      ]
    },
    {
      "cell_type": "code",
      "source": [
        "# Let's take a look on dataset size\n",
        "print('size of x_train: ', x_train.shape)\n",
        "print('size of y_train: ', y_train.shape)\n",
        "print('size of x_test: ', x_test.shape)\n",
        "print('size of y_test: ', y_test.shape)"
      ],
      "metadata": {
        "colab": {
          "base_uri": "https://localhost:8080/"
        },
        "id": "2aY8_lsO_JkM",
        "outputId": "509de523-7d10-4efc-92dd-73f2557392a0"
      },
      "execution_count": null,
      "outputs": [
        {
          "output_type": "stream",
          "name": "stdout",
          "text": [
            "size of x_train:  (25000,)\n",
            "size of y_train:  (25000,)\n",
            "size of x_test:  (25000,)\n",
            "size of y_test:  (25000,)\n"
          ]
        }
      ]
    },
    {
      "cell_type": "code",
      "source": [
        "print('The 10 first labels: ', y_train[0:10])"
      ],
      "metadata": {
        "colab": {
          "base_uri": "https://localhost:8080/"
        },
        "id": "VFnqkgKm_pb7",
        "outputId": "603d5040-3f45-49c1-e40a-827345e09104"
      },
      "execution_count": null,
      "outputs": [
        {
          "output_type": "stream",
          "name": "stdout",
          "text": [
            "The 10 first labels:  [1 0 0 1 0 0 1 0 1 0]\n"
          ]
        }
      ]
    },
    {
      "cell_type": "code",
      "source": [
        "idx = 0\n",
        "print('The first training sample: ', x_train[idx])\n",
        "print('The length of the first training sample: ', len(x_train[idx]))\n",
        "print('The first training label: ', y_train[idx])"
      ],
      "metadata": {
        "id": "Rsstl_zu_3hK"
      },
      "execution_count": null,
      "outputs": []
    },
    {
      "cell_type": "code",
      "source": [
        "max_review_length = 500\n",
        "x_train = sequence.pad_sequences(x_train, maxlen=max_review_length)\n",
        "x_test = sequence.pad_sequences(x_test, maxlen=max_review_length)"
      ],
      "metadata": {
        "id": "Snl0-pC0XkZ6"
      },
      "execution_count": null,
      "outputs": []
    },
    {
      "cell_type": "code",
      "source": [
        "len(x_train[0,:])"
      ],
      "metadata": {
        "id": "D4ETQOw6bgjg",
        "colab": {
          "base_uri": "https://localhost:8080/"
        },
        "outputId": "06cfa9bc-0a09-4420-b317-c4ac93fe3c38"
      },
      "execution_count": null,
      "outputs": [
        {
          "output_type": "execute_result",
          "data": {
            "text/plain": [
              "500"
            ]
          },
          "metadata": {},
          "execution_count": 18
        }
      ]
    },
    {
      "cell_type": "code",
      "source": [
        "class RNN:\n",
        "  # Constructor\n",
        "  def __init__(self):\n",
        "    return None\n",
        "\n",
        "  # Define structure of the RNN\n",
        "  def build(self):\n",
        "    #self.model = Sequential()\n",
        "    #self.model.add(Embedding(vocab_size, 32, input_length=max_review_length))\n",
        "    #self.model.add(SimpleRNN(32))\n",
        "    #self.model.add(Dense(1, activation='sigmoid'))\n",
        "    input = Input(shape=(max_review_length,))\n",
        "    # We will learn embedding layer, instead of using pretrained models like word2vec\n",
        "    emb = layers.Embedding(vocab_size, 32, input_length=max_review_length)(input)\n",
        "    h = layers.SimpleRNN(32)(emb)\n",
        "    output = layers.Dense(1, activation='sigmoid')(h)\n",
        "    self.model = Model(input, output)\n",
        "\n",
        "  # Train the model\n",
        "  def train(self, x_train, y_train):\n",
        "    self.model.compile(loss='binary_crossentropy', optimizer='adam', metrics=['accuracy'])\n",
        "    return self.model.fit(x_train, y_train, epochs=3, batch_size=64)\n",
        "\n",
        "  # Load model from file\n",
        "  def load(self, model_file):\n",
        "    self.model = load_model(model_file)\n",
        "\n",
        "  # save the trained model\n",
        "  def save(self, model_file):\n",
        "    self.model.save(model_file)\n",
        "\n",
        "  # Show the architecture of the model\n",
        "  def summary(self):\n",
        "    self.model.summary()\n",
        "\n",
        "  # Test the model with a given input\n",
        "  def predict(self, x_test):\n",
        "    return self.model.predict(x_test)\n"
      ],
      "metadata": {
        "id": "vlxY0fhiXkcC"
      },
      "execution_count": null,
      "outputs": []
    },
    {
      "cell_type": "code",
      "source": [
        "rnn = RNN()\n",
        "rnn.build()\n",
        "hist = rnn.train(x_train, y_train)"
      ],
      "metadata": {
        "colab": {
          "base_uri": "https://localhost:8080/"
        },
        "id": "qBdP0-0WXkeg",
        "outputId": "13f60f02-fe57-4674-f3ff-eacde8709546"
      },
      "execution_count": null,
      "outputs": [
        {
          "output_type": "stream",
          "name": "stdout",
          "text": [
            "Epoch 1/3\n",
            "391/391 [==============================] - 56s 139ms/step - loss: 0.6200 - accuracy: 0.6402\n",
            "Epoch 2/3\n",
            "391/391 [==============================] - 55s 141ms/step - loss: 0.4149 - accuracy: 0.8207\n",
            "Epoch 3/3\n",
            "391/391 [==============================] - 54s 137ms/step - loss: 0.3563 - accuracy: 0.8500\n"
          ]
        }
      ]
    },
    {
      "cell_type": "code",
      "source": [
        "import matplotlib.pyplot as plt\n",
        "\n",
        "plt.plot(hist.history['loss'])"
      ],
      "metadata": {
        "id": "e6Et_qTwpiyo",
        "colab": {
          "base_uri": "https://localhost:8080/",
          "height": 447
        },
        "outputId": "8f20b9a9-7338-40f9-87e7-ebe09db9164b"
      },
      "execution_count": null,
      "outputs": [
        {
          "output_type": "execute_result",
          "data": {
            "text/plain": [
              "[<matplotlib.lines.Line2D at 0x7baff9d48550>]"
            ]
          },
          "metadata": {},
          "execution_count": 22
        },
        {
          "output_type": "display_data",
          "data": {
            "text/plain": [
              "<Figure size 640x480 with 1 Axes>"
            ],
            "image/png": "[encoded data removed]"
          },
          "metadata": {}
        }
      ]
    },
    {
      "cell_type": "code",
      "source": [
        "rnn.model.layers[2].get_weights()[2].shape"
      ],
      "metadata": {
        "colab": {
          "base_uri": "https://localhost:8080/"
        },
        "id": "bA3fKIs8d5Jk",
        "outputId": "3aba6057-1f9e-4080-d1fc-0616ee5bce5f"
      },
      "execution_count": null,
      "outputs": [
        {
          "output_type": "execute_result",
          "data": {
            "text/plain": [
              "(32,)"
            ]
          },
          "metadata": {},
          "execution_count": 49
        }
      ]
    },
    {
      "cell_type": "code",
      "source": [
        "y_pred = rnn.predict(x_test)"
      ],
      "metadata": {
        "colab": {
          "base_uri": "https://localhost:8080/"
        },
        "id": "AKNtH1mxXkgx",
        "outputId": "b9f98330-c50d-40ef-9f12-abc1b78a8abd"
      },
      "execution_count": null,
      "outputs": [
        {
          "output_type": "stream",
          "name": "stdout",
          "text": [
            "782/782 [==============================] - 22s 28ms/step\n"
          ]
        }
      ]
    },
    {
      "cell_type": "code",
      "source": [
        "# Compute accuracy from scratch\n",
        "sum((y_pred > 0.5).reshape(-1) == y_test)/ len(y_test)"
      ],
      "metadata": {
        "colab": {
          "base_uri": "https://localhost:8080/"
        },
        "id": "pq4gxNKAaId9",
        "outputId": "2988f280-1e27-4665-e861-473efda805c3"
      },
      "execution_count": null,
      "outputs": [
        {
          "output_type": "execute_result",
          "data": {
            "text/plain": [
              "0.8324"
            ]
          },
          "metadata": {},
          "execution_count": 24
        }
      ]
    },
    {
      "cell_type": "code",
      "source": [
        "scores = rnn.model.evaluate(x_test, y_test, verbose=0)\n",
        "print(\"Accuracy: %.2f%%\" % (scores[1]*100))"
      ],
      "metadata": {
        "colab": {
          "base_uri": "https://localhost:8080/"
        },
        "id": "IVeqCh8eXvuT",
        "outputId": "cd6dbb15-f0a1-4dde-8ea1-7c4bc18dc55b"
      },
      "execution_count": null,
      "outputs": [
        {
          "output_type": "stream",
          "name": "stdout",
          "text": [
            "Accuracy: 83.24%\n"
          ]
        }
      ]
    },
    {
      "cell_type": "markdown",
      "source": [
        "### USING PRETRAINED WORD EMBEDDING LAYER"
      ],
      "metadata": {
        "id": "t7RjBqYZIefv"
      }
    },
    {
      "cell_type": "code",
      "source": [
        "import gensim"
      ],
      "metadata": {
        "id": "qhQ-7fSuImKj"
      },
      "execution_count": null,
      "outputs": []
    },
    {
      "cell_type": "code",
      "source": [
        "!wget https://dl.fbaipublicfiles.com/fasttext/vectors-english/wiki-news-300d-1M.vec.zip\n",
        "# Giải nén file mô hình\n",
        "!unzip wiki-news-300d-1M.vec.zip"
      ],
      "metadata": {
        "colab": {
          "base_uri": "https://localhost:8080/"
        },
        "id": "cKZJLUsyIkzf",
        "outputId": "1ae55877-95e1-4509-dbe1-60ee48e6e963"
      },
      "execution_count": null,
      "outputs": [
        {
          "output_type": "stream",
          "name": "stdout",
          "text": [
            "--2024-07-19 08:38:22--  https://dl.fbaipublicfiles.com/fasttext/vectors-english/wiki-news-300d-1M.vec.zip\n",
            "Resolving dl.fbaipublicfiles.com (dl.fbaipublicfiles.com)... 3.162.163.51, 3.162.163.11, 3.162.163.19, ...\n",
            "Connecting to dl.fbaipublicfiles.com (dl.fbaipublicfiles.com)|3.162.163.51|:443... connected.\n",
            "HTTP request sent, awaiting response... 200 OK\n",
            "Length: 681808098 (650M) [application/zip]\n",
            "Saving to: ‘wiki-news-300d-1M.vec.zip’\n",
            "\n",
            "wiki-news-300d-1M.v 100%[===================>] 650.22M  23.7MB/s    in 24s     \n",
            "\n",
            "2024-07-19 08:38:46 (27.1 MB/s) - ‘wiki-news-300d-1M.vec.zip’ saved [681808098/681808098]\n",
            "\n",
            "Archive:  wiki-news-300d-1M.vec.zip\n",
            "  inflating: wiki-news-300d-1M.vec   \n"
          ]
        }
      ]
    },
    {
      "cell_type": "code",
      "source": [
        "word2vec_model = gensim.models.KeyedVectors.load_word2vec_format('wiki-news-300d-1M.vec', binary=False)"
      ],
      "metadata": {
        "id": "1h1ed_8rId2e"
      },
      "execution_count": null,
      "outputs": []
    },
    {
      "cell_type": "code",
      "source": [
        "dict_len = word2vec_model.vectors.shape[0]\n",
        "emb_len = word2vec_model.vectors.shape[1]\n",
        "print(dict_len)\n",
        "print(emb_len)"
      ],
      "metadata": {
        "colab": {
          "base_uri": "https://localhost:8080/"
        },
        "id": "rp0O-GX-IweJ",
        "outputId": "569d2606-962f-4e13-9cd1-8944881bc462"
      },
      "execution_count": null,
      "outputs": [
        {
          "output_type": "stream",
          "name": "stdout",
          "text": [
            "999994\n",
            "300\n"
          ]
        }
      ]
    },
    {
      "cell_type": "code",
      "source": [
        "class RNN:\n",
        "  # Constructor\n",
        "  def __init__(self):\n",
        "    return None\n",
        "\n",
        "  # Define structure of the RNN\n",
        "  def build(self):\n",
        "    input = Input(shape=(max_review_length,))\n",
        "    embed  = layers.Embedding(dict_len, emb_len, weights=[word2vec_model.vectors], trainable=False)(input)\n",
        "    hidden = layers.SimpleRNN(64)(embed)\n",
        "    output = layers.Dense(1, activation='sigmoid')(hidden)\n",
        "    self.model = Model(input, output)\n",
        "\n",
        "  # Train the model\n",
        "  def train(self, x_train, y_train):\n",
        "    self.model.compile(loss='binary_crossentropy', optimizer='adam', metrics=['accuracy'])\n",
        "    return self.model.fit(x_train, y_train, epochs=3, batch_size=64)\n",
        "\n",
        "  # Load model from file\n",
        "  def load(self, model_file):\n",
        "    self.model = load_model(model_file)\n",
        "\n",
        "  # save the trained model\n",
        "  def save(self, model_file):\n",
        "    self.model.save(model_file)\n",
        "\n",
        "  # Show the architecture of the model\n",
        "  def summary(self):\n",
        "    self.model.summary()\n",
        "\n",
        "  # Test the model with a given input\n",
        "  def predict(self, x_test):\n",
        "    return self.model.predict(x_test)"
      ],
      "metadata": {
        "id": "rBfdXpKxIw9j"
      },
      "execution_count": null,
      "outputs": []
    },
    {
      "cell_type": "code",
      "source": [
        "rnn = RNN()\n",
        "rnn.build()\n",
        "hist = rnn.train(x_train, y_train)"
      ],
      "metadata": {
        "colab": {
          "base_uri": "https://localhost:8080/"
        },
        "id": "COYZ1-tiJoXX",
        "outputId": "8a5c41f1-6c30-4313-cbec-16c2ca826aee"
      },
      "execution_count": null,
      "outputs": [
        {
          "output_type": "stream",
          "name": "stdout",
          "text": [
            "Epoch 1/3\n",
            "391/391 [==============================] - 119s 297ms/step - loss: 0.6584 - accuracy: 0.5948\n",
            "Epoch 2/3\n",
            "391/391 [==============================] - 132s 339ms/step - loss: 0.6471 - accuracy: 0.6152\n",
            "Epoch 3/3\n",
            "391/391 [==============================] - 116s 296ms/step - loss: 0.6742 - accuracy: 0.5721\n"
          ]
        }
      ]
    },
    {
      "cell_type": "code",
      "source": [
        "y_pred = rnn.predict(x_test)"
      ],
      "metadata": {
        "colab": {
          "base_uri": "https://localhost:8080/"
        },
        "id": "eg-E5IOhJo7b",
        "outputId": "466acf9e-66cf-466c-c7f1-66d59f618f4c"
      },
      "execution_count": null,
      "outputs": [
        {
          "output_type": "stream",
          "name": "stdout",
          "text": [
            "782/782 [==============================] - 56s 71ms/step\n"
          ]
        }
      ]
    },
    {
      "cell_type": "code",
      "source": [
        "# ACCURACY\n",
        "sum((y_pred > 0.5).reshape(-1) == y_test) / len(y_test)"
      ],
      "metadata": {
        "colab": {
          "base_uri": "https://localhost:8080/"
        },
        "id": "nX8LqXJhJugI",
        "outputId": "94831bd2-9a29-468f-d53f-02e631a1a719"
      },
      "execution_count": null,
      "outputs": [
        {
          "output_type": "execute_result",
          "data": {
            "text/plain": [
              "0.56876"
            ]
          },
          "metadata": {},
          "execution_count": 40
        }
      ]
    },
    {
      "cell_type": "markdown",
      "source": [
        "## RNN For Vietnamese Accent Prediction: A Tutorial of Pytorch"
      ],
      "metadata": {
        "id": "qDH_-8n3d5M8"
      }
    },
    {
      "cell_type": "code",
      "source": [
        "!pip install datasets"
      ],
      "metadata": {
        "colab": {
          "base_uri": "https://localhost:8080/"
        },
        "id": "nX4pwjRtgctk",
        "outputId": "2dc1406b-05c0-4ab5-dba0-f1e92d221307"
      },
      "execution_count": null,
      "outputs": [
        {
          "output_type": "stream",
          "name": "stdout",
          "text": [
            "Collecting datasets\n",
            "  Downloading datasets-3.0.1-py3-none-any.whl.metadata (20 kB)\n",
            "Requirement already satisfied: filelock in /usr/local/lib/python3.10/dist-packages (from datasets) (3.16.1)\n",
            "Requirement already satisfied: numpy>=1.17 in /usr/local/lib/python3.10/dist-packages (from datasets) (1.26.4)\n",
            "Requirement already satisfied: pyarrow>=15.0.0 in /usr/local/lib/python3.10/dist-packages (from datasets) (16.1.0)\n",
            "Collecting dill<0.3.9,>=0.3.0 (from datasets)\n",
            "  Downloading dill-0.3.8-py3-none-any.whl.metadata (10 kB)\n",
            "Requirement already satisfied: pandas in /usr/local/lib/python3.10/dist-packages (from datasets) (2.2.2)\n",
            "Requirement already satisfied: requests>=2.32.2 in /usr/local/lib/python3.10/dist-packages (from datasets) (2.32.3)\n",
            "Requirement already satisfied: tqdm>=4.66.3 in /usr/local/lib/python3.10/dist-packages (from datasets) (4.66.5)\n",
            "Collecting xxhash (from datasets)\n",
            "  Downloading xxhash-3.5.0-cp310-cp310-manylinux_2_17_x86_64.manylinux2014_x86_64.whl.metadata (12 kB)\n",
            "Collecting multiprocess (from datasets)\n",
            "  Downloading multiprocess-0.70.17-py310-none-any.whl.metadata (7.2 kB)\n",
            "Requirement already satisfied: fsspec<=2024.6.1,>=2023.1.0 in /usr/local/lib/python3.10/dist-packages (from fsspec[http]<=2024.6.1,>=2023.1.0->datasets) (2024.6.1)\n",
            "Requirement already satisfied: aiohttp in /usr/local/lib/python3.10/dist-packages (from datasets) (3.10.8)\n",
            "Requirement already satisfied: huggingface-hub>=0.22.0 in /usr/local/lib/python3.10/dist-packages (from datasets) (0.24.7)\n",
            "Requirement already satisfied: packaging in /usr/local/lib/python3.10/dist-packages (from datasets) (24.1)\n",
            "Requirement already satisfied: pyyaml>=5.1 in /usr/local/lib/python3.10/dist-packages (from datasets) (6.0.2)\n",
            "Requirement already satisfied: aiohappyeyeballs>=2.3.0 in /usr/local/lib/python3.10/dist-packages (from aiohttp->datasets) (2.4.3)\n",
            "Requirement already satisfied: aiosignal>=1.1.2 in /usr/local/lib/python3.10/dist-packages (from aiohttp->datasets) (1.3.1)\n",
            "Requirement already satisfied: attrs>=17.3.0 in /usr/local/lib/python3.10/dist-packages (from aiohttp->datasets) (24.2.0)\n",
            "Requirement already satisfied: frozenlist>=1.1.1 in /usr/local/lib/python3.10/dist-packages (from aiohttp->datasets) (1.4.1)\n",
            "Requirement already satisfied: multidict<7.0,>=4.5 in /usr/local/lib/python3.10/dist-packages (from aiohttp->datasets) (6.1.0)\n",
            "Requirement already satisfied: yarl<2.0,>=1.12.0 in /usr/local/lib/python3.10/dist-packages (from aiohttp->datasets) (1.13.1)\n",
            "Requirement already satisfied: async-timeout<5.0,>=4.0 in /usr/local/lib/python3.10/dist-packages (from aiohttp->datasets) (4.0.3)\n",
            "Requirement already satisfied: typing-extensions>=3.7.4.3 in /usr/local/lib/python3.10/dist-packages (from huggingface-hub>=0.22.0->datasets) (4.12.2)\n",
            "Requirement already satisfied: charset-normalizer<4,>=2 in /usr/local/lib/python3.10/dist-packages (from requests>=2.32.2->datasets) (3.3.2)\n",
            "Requirement already satisfied: idna<4,>=2.5 in /usr/local/lib/python3.10/dist-packages (from requests>=2.32.2->datasets) (3.10)\n",
            "Requirement already satisfied: urllib3<3,>=1.21.1 in /usr/local/lib/python3.10/dist-packages (from requests>=2.32.2->datasets) (2.2.3)\n",
            "Requirement already satisfied: certifi>=2017.4.17 in /usr/local/lib/python3.10/dist-packages (from requests>=2.32.2->datasets) (2024.8.30)\n",
            "INFO: pip is looking at multiple versions of multiprocess to determine which version is compatible with other requirements. This could take a while.\n",
            "  Downloading multiprocess-0.70.16-py310-none-any.whl.metadata (7.2 kB)\n",
            "Requirement already satisfied: python-dateutil>=2.8.2 in /usr/local/lib/python3.10/dist-packages (from pandas->datasets) (2.8.2)\n",
            "Requirement already satisfied: pytz>=2020.1 in /usr/local/lib/python3.10/dist-packages (from pandas->datasets) (2024.2)\n",
            "Requirement already satisfied: tzdata>=2022.7 in /usr/local/lib/python3.10/dist-packages (from pandas->datasets) (2024.2)\n",
            "Requirement already satisfied: six>=1.5 in /usr/local/lib/python3.10/dist-packages (from python-dateutil>=2.8.2->pandas->datasets) (1.16.0)\n",
            "Downloading datasets-3.0.1-py3-none-any.whl (471 kB)\n",
            "\u001b[2K   \u001b[90m━━━━━━━━━━━━━━━━━━━━━━━━━━━━━━━━━━━━━━━━\u001b[0m \u001b[32m471.6/471.6 kB\u001b[0m \u001b[31m9.0 MB/s\u001b[0m eta \u001b[36m0:00:00\u001b[0m\n",
            "\u001b[?25hDownloading dill-0.3.8-py3-none-any.whl (116 kB)\n",
            "\u001b[2K   \u001b[90m━━━━━━━━━━━━━━━━━━━━━━━━━━━━━━━━━━━━━━━━\u001b[0m \u001b[32m116.3/116.3 kB\u001b[0m \u001b[31m5.8 MB/s\u001b[0m eta \u001b[36m0:00:00\u001b[0m\n",
            "\u001b[?25hDownloading multiprocess-0.70.16-py310-none-any.whl (134 kB)\n",
            "\u001b[2K   \u001b[90m━━━━━━━━━━━━━━━━━━━━━━━━━━━━━━━━━━━━━━━━\u001b[0m \u001b[32m134.8/134.8 kB\u001b[0m \u001b[31m5.9 MB/s\u001b[0m eta \u001b[36m0:00:00\u001b[0m\n",
            "\u001b[?25hDownloading xxhash-3.5.0-cp310-cp310-manylinux_2_17_x86_64.manylinux2014_x86_64.whl (194 kB)\n",
            "\u001b[2K   \u001b[90m━━━━━━━━━━━━━━━━━━━━━━━━━━━━━━━━━━━━━━━━\u001b[0m \u001b[32m194.1/194.1 kB\u001b[0m \u001b[31m10.4 MB/s\u001b[0m eta \u001b[36m0:00:00\u001b[0m\n",
            "\u001b[?25hInstalling collected packages: xxhash, dill, multiprocess, datasets\n",
            "Successfully installed datasets-3.0.1 dill-0.3.8 multiprocess-0.70.16 xxhash-3.5.0\n"
          ]
        }
      ]
    },
    {
      "cell_type": "code",
      "source": [
        "from datasets import load_dataset\n",
        "\n",
        "# Load the Vietnamese news dataset\n",
        "dataset = load_dataset('tmnam20/Vietnamese-News', \"vnexpress\")"
      ],
      "metadata": {
        "colab": {
          "base_uri": "https://localhost:8080/",
          "height": 333,
          "referenced_widgets": [
            "c7d9ccedf9a944feaed693c3ecc006cb",
            "d6bf71c55c0b48b1b2c69eed7b5f7f87",
            "8622412d3d354f0981d0799ac27f5952",
            "1b734b8cb13d40b78c3a6d503dc9af9b",
            "20ea652112d24023a77a5d59d5866368",
            "ef7e1040285342999a2b4084a67bb853",
            "7d6651c7c9034af48b5c1d29d1de3ff5",
            "661355ad3f534024a63444d34d5d056a",
            "ad3d013a331a4a8ea40f6ad450d5b79b",
            "1066f28db5d9428cb3acaadc8a4f8af3",
            "376269cc34c24368b9a1fbe9de7437a8",
            "25a861a174904a0f84e8f67df3e13c19",
            "5a249d633ee5419db0b3a36a3cfe40b4",
            "a40b1c6442a5413881a7ee1ab558f8ba",
            "c486610ac62942b29b1017ee1d9a9e45",
            "21c6423ecf494f9d9cf0e5723d2f21ab",
            "bea286012be94a29be478c2a16d759c4",
            "b2d05c756640418ca7a4438d0e165875",
            "40505f2d10504fb9836f83601cde0a4c",
            "bc703598a0e940f4ab6ead263911fcdc",
            "eaba21da45c647a0944f2be8c6962ba8",
            "e9ce476597fb4e648bd9fe036cc30e9b",
            "eb131b288cf2478e90aaf5f27984217e",
            "e368391b32f8485a861050e3c145838b",
            "b54e341c438e44a5ba962362782ceb40",
            "985bca6fb5144935af586adf4e853149",
            "3368a6b0d749489a8e0d4ebd49abf43a",
            "d03186859e97407b869428b129edae2b",
            "1e497fb0118a49d399faea9bb78db3d7",
            "6af92221f290409998f773ad344cb20d",
            "d809a7e6711348478d5dbe1b17d9bac7",
            "a43079c6b073432490471ebb9b727890",
            "c384f8cf7bdf403d89d7c06465f84b6d",
            "89d62163184b4a398a2c8dd0009dc835",
            "b176790deb034233a6d624b16851c695",
            "37e3497998c14ff8a32b622d5d91cc9b",
            "5dedfc8e875f4ec4abc9a41d2cdd2470",
            "580c2484199f4430a341926e8351512b",
            "661c8a76a14641d987ff9daa0b1d243b",
            "f1524a01cd1c4c82adc98b7bafdd572a",
            "f4b3d9ca6e89428b8727bcb730d7eee7",
            "d1948decade34183b9238a0f9c6950e5",
            "8ebb8ee415534bafaa2266cd792a1315",
            "2823c50ec3254dc48c9ccd71a33322f9",
            "6f9bd28bee1d4aecb75afdc2f24b11fa",
            "bf0c52ce2c6d41d69aab1340d250a0d6",
            "4757e3a6b7b848609dd3e4b7a9eda35a",
            "c63a7a031d29465e83cf8d759c89c63e",
            "58d5f3f5c6f5461280bf7ed0c04d913e",
            "625fd1780a4c46dca8c0e333077f761c",
            "cf74a035e54a4c438892b175b5395134",
            "eee2c66bdb72462f95f586456704ea87",
            "537ec610de964dc88e7e5a069af85b10",
            "fcf34411ba34499188e4d0d2151708f0",
            "18237d4ed874488ba2c8c70fbb9a5636",
            "a20b441d659747d7b768945a85d3bf46",
            "ed53477b1e7b4760b61893978c4b46f8",
            "ca45c71add5043fe944276c3ab2848b5",
            "e799e83ff5a14c71ba98a51f14e11e68",
            "9a95c978a8894d8785dd21d12f16899c",
            "0effbbe772d0485b8324a9997bd24373",
            "ea931b543e6e4426b207ae5054adc122",
            "7518943e406d4decbac36875a965fdcc",
            "88f0f0cf13204e7cb66e4c0dfdc78fa3",
            "c6bf3ce364b94e9281e983fc798eb334",
            "879145c3bd304f759ab74dc0c0da89b2"
          ]
        },
        "id": "EH1nlBQNeCSj",
        "outputId": "e5474be6-a193-40bb-b02c-7b4b6848cd4c"
      },
      "execution_count": null,
      "outputs": [
        {
          "output_type": "stream",
          "name": "stderr",
          "text": [
            "/usr/local/lib/python3.10/dist-packages/huggingface_hub/utils/_token.py:89: UserWarning: \n",
            "The secret `HF_TOKEN` does not exist in your Colab secrets.\n",
            "To authenticate with the Hugging Face Hub, create a token in your settings tab (https://huggingface.co/settings/tokens), set it as secret in your Google Colab and restart your session.\n",
            "You will be able to reuse this secret in all of your notebooks.\n",
            "Please note that authentication is recommended but still optional to access public models or datasets.\n",
            "  warnings.warn(\n"
          ]
        },
        {
          "output_type": "display_data",
          "data": {
            "text/plain": [
              "README.md:   0%|          | 0.00/3.97k [00:00<?, ?B/s]"
            ],
            "application/vnd.jupyter.widget-view+json": {
              "version_major": 2,
              "version_minor": 0,
              "model_id": "c7d9ccedf9a944feaed693c3ecc006cb"
            }
          },
          "metadata": {}
        },
        {
          "output_type": "display_data",
          "data": {
            "text/plain": [
              "Resolving data files:   0%|          | 0/48 [00:00<?, ?it/s]"
            ],
            "application/vnd.jupyter.widget-view+json": {
              "version_major": 2,
              "version_minor": 0,
              "model_id": "25a861a174904a0f84e8f67df3e13c19"
            }
          },
          "metadata": {}
        },
        {
          "output_type": "display_data",
          "data": {
            "text/plain": [
              "(…)-00000-of-00003-c1e4c542ca0d1d39.parquet:   0%|          | 0.00/148M [00:00<?, ?B/s]"
            ],
            "application/vnd.jupyter.widget-view+json": {
              "version_major": 2,
              "version_minor": 0,
              "model_id": "eb131b288cf2478e90aaf5f27984217e"
            }
          },
          "metadata": {}
        },
        {
          "output_type": "display_data",
          "data": {
            "text/plain": [
              "(…)-00001-of-00003-a430d125387c285c.parquet:   0%|          | 0.00/200M [00:00<?, ?B/s]"
            ],
            "application/vnd.jupyter.widget-view+json": {
              "version_major": 2,
              "version_minor": 0,
              "model_id": "89d62163184b4a398a2c8dd0009dc835"
            }
          },
          "metadata": {}
        },
        {
          "output_type": "display_data",
          "data": {
            "text/plain": [
              "(…)-00002-of-00003-8ac145308ccb0c49.parquet:   0%|          | 0.00/190M [00:00<?, ?B/s]"
            ],
            "application/vnd.jupyter.widget-view+json": {
              "version_major": 2,
              "version_minor": 0,
              "model_id": "6f9bd28bee1d4aecb75afdc2f24b11fa"
            }
          },
          "metadata": {}
        },
        {
          "output_type": "display_data",
          "data": {
            "text/plain": [
              "Generating train split:   0%|          | 0/133438 [00:00<?, ? examples/s]"
            ],
            "application/vnd.jupyter.widget-view+json": {
              "version_major": 2,
              "version_minor": 0,
              "model_id": "a20b441d659747d7b768945a85d3bf46"
            }
          },
          "metadata": {}
        }
      ]
    },
    {
      "cell_type": "code",
      "source": [
        "# Display the first few rows of the dataset\n",
        "dataset['train']['text'][:1]"
      ],
      "metadata": {
        "colab": {
          "base_uri": "https://localhost:8080/"
        },
        "id": "qdKXW_L_eC2o",
        "outputId": "f457edd5-3e70-4303-c6a3-a2de45f7b747"
      },
      "execution_count": null,
      "outputs": [
        {
          "output_type": "execute_result",
          "data": {
            "text/plain": [
              "['6 đồ uống có lợi cho người bệnh tiểu đường\\nNước ép cà chua, nước chanh, cam nguyên chất, trà hỗ trợ người bệnh tiểu đường kiểm soát đường huyết.\\nNgười bệnh tiểu đường cần có chế độ dinh dưỡng lành mạnh, hạn chế đồ uống chứa nhiều carbohydrate (carb), đường và chất làm ngọt nhân tạo vì ảnh hưởng đến đường huyết. Dưới đây là đồ uống có lợi cho chế độ ăn uống của người bệnh.\\nNước chanh: Chanh có chỉ số đường huyết (GI) thấp, giàu chất xơ, vitamin C, kali và golate làm chậm quá trình chuyển carbohydrate thành đường, ngăn ngừa đường huyết tăng đột biến. Người bệnh tiểu đường nên pha nước chanh tại nhà để kiểm soát lượng đường, nên uống khi no để tránh cồn cào bụng.\\nNgười bệnh tiểu đường cần có chế độ dinh dưỡng lành mạnh, hạn chế đồ uống chứa nhiều carbohydrate (carb), đường và chất làm ngọt nhân tạo vì ảnh hưởng đến đường huyết. Dưới đây là đồ uống có lợi cho chế độ ăn uống của người bệnh.\\nNước chanh: Chanh có chỉ số đường huyết (GI) thấp, giàu chất xơ, vitamin C, kali và golate làm chậm quá trình chuyển carbohydrate thành đường, ngăn ngừa đường huyết tăng đột biến. Người bệnh tiểu đường nên pha nước chanh tại nhà để kiểm soát lượng đường, nên uống khi no để tránh cồn cào bụng.\\nChocolate nóng: Người bệnh tiểu đường có thể pha hai thìa chocolate với 100 ml sữa ấm ít béo hoặc sữa không đường để thưởng thức. Chocolate mang đến nhiều lợi ích cho sức khỏe như kiểm soát cholesterol, hạ đường huyết.\\nChocolate nóng: Người bệnh tiểu đường có thể pha hai thìa chocolate với 100 ml sữa ấm ít béo hoặc sữa không đường để thưởng thức. Chocolate mang đến nhiều lợi ích cho sức khỏe như kiểm soát cholesterol, hạ đường huyết.\\nTrà xanh: Loại trà này giàu epigallocatechin gallate (EGCG) - hợp chất sinh học kích thích hấp thu glucose (đường) góp phần giảm lượng đường trong máu. Người tiểu đường uống trà thường xuyên có thể giảm viêm. Uống trà xanh nguyên chất, không thêm đường hay chất làm ngọt nhân tạo tốt hơn cho sức khỏe.\\nTrà xanh: Loại trà này giàu epigallocatechin gallate (EGCG) - hợp chất sinh học kích thích hấp thu glucose (đường) góp phần giảm lượng đường trong máu. Người tiểu đường uống trà thường xuyên có thể giảm viêm. Uống trà xanh nguyên chất, không thêm đường hay chất làm ngọt nhân tạo tốt hơn cho sức khỏe.\\nNước cam: Cam có chỉ số đường huyết thấp, lượng carb trong một cốc nước cam nguyên chất vừa phải nên ít ảnh hưởng đến đường huyết. Cam giàu vitamin C hỗ trợ tăng miễn dịch, có lợi cho sức khỏe.\\nNước cam: Cam có chỉ số đường huyết thấp, lượng carb trong một cốc nước cam nguyên chất vừa phải nên ít ảnh hưởng đến đường huyết. Cam giàu vitamin C hỗ trợ tăng miễn dịch, có lợi cho sức khỏe.\\nNước lọc: Mất nước thường xảy ra ở người bệnh tiểu đường. Nước lọc vừa làm dịu cơn khát, vừa cân bằng nước trong cơ thể, giúp kiểm soát lượng đường trong máu ở mức ổn định.\\nNước lọc: Mất nước thường xảy ra ở người bệnh tiểu đường. Nước lọc vừa làm dịu cơn khát, vừa cân bằng nước trong cơ thể, giúp kiểm soát lượng đường trong máu ở mức ổn định.\\nNước ép cà chua: Giúp giảm các triệu chứng viêm nhiễm toàn thân, giảm huyết áp và khả năng mắc bệnh tim mạch. Uống nước ép cà chua nguyên chất tránh tăng đường huyết.\\nNước ép cà chua: Giúp giảm các triệu chứng viêm nhiễm toàn thân, giảm huyết áp và khả năng mắc bệnh tim mạch. Uống nước ép cà chua nguyên chất tránh tăng đường huyết.\\nAnh Chi (Theo WebMD)\\nĐộc giả đặt câu hỏi về các bệnh nội tiết - đái tháo đường tại đây để bác sĩ giải đáp']"
            ]
          },
          "metadata": {},
          "execution_count": 3
        }
      ]
    },
    {
      "cell_type": "code",
      "source": [
        "import itertools\n",
        "import re\n",
        "\n",
        "def extract_phrases(text):\n",
        "    \"\"\" extract phrases, i.e. group of continuous words, from text \"\"\"\n",
        "    return re.findall('\\w[\\w ]+', text, re.UNICODE)\n",
        "\n",
        "\n",
        "phrases = itertools.chain.from_iterable(extract_phrases(text) for text in dataset['train']['text'])\n",
        "phrases = [p.lower().strip() for p in phrases]\n",
        "[print(s) for s in phrases[:5]]\n",
        "print('Number of phrases:', len(phrases))"
      ],
      "metadata": {
        "colab": {
          "base_uri": "https://localhost:8080/"
        },
        "id": "O-J84jweiLxR",
        "outputId": "354c2d00-3ae1-43d9-aec7-27ed4180cd9b"
      },
      "execution_count": null,
      "outputs": [
        {
          "output_type": "stream",
          "name": "stdout",
          "text": [
            "6 đồ uống có lợi cho người bệnh tiểu đường\n",
            "nước ép cà chua\n",
            "nước chanh\n",
            "cam nguyên chất\n",
            "trà hỗ trợ người bệnh tiểu đường kiểm soát đường huyết\n",
            "Number of phrases: 70639571\n"
          ]
        }
      ]
    },
    {
      "cell_type": "code",
      "source": [
        "accented_chars = {\n",
        "    'a': u'a á à ả ã ạ â ấ ầ ẩ ẫ ậ ă ắ ằ ẳ ẵ ặ',\n",
        "    'o': u'o ó ò ỏ õ ọ ô ố ồ ổ ỗ ộ ơ ớ ờ ở ỡ ợ',\n",
        "    'e': u'e é è ẻ ẽ ẹ ê ế ề ể ễ ệ',\n",
        "    'u': u'u ú ù ủ ũ ụ ư ứ ừ ử ữ ự',\n",
        "    'i': u'i í ì ỉ ĩ ị',\n",
        "    'y': u'y ý ỳ ỷ ỹ ỵ',\n",
        "    'd': u'd đ',\n",
        "}\n",
        "\n",
        "plain_char_map = {}\n",
        "for c, variants in accented_chars.items():\n",
        "    for v in variants.split(' '):\n",
        "        plain_char_map[v] = c\n",
        "\n",
        "\n",
        "def remove_accent(text):\n",
        "    return u''.join(plain_char_map.get(char, char) for char in text)\n",
        "\n",
        "remove_accent(u'cô gái đến từ hôm qua')"
      ],
      "metadata": {
        "colab": {
          "base_uri": "https://localhost:8080/",
          "height": 36
        },
        "id": "j7-rZmHAjgTb",
        "outputId": "f7d14e8f-495d-4e67-c1c2-a415b4bf248c"
      },
      "execution_count": null,
      "outputs": [
        {
          "output_type": "execute_result",
          "data": {
            "text/plain": [
              "'co gai den tu hom qua'"
            ],
            "application/vnd.google.colaboratory.intrinsic+json": {
              "type": "string"
            }
          },
          "metadata": {},
          "execution_count": 4
        }
      ]
    },
    {
      "cell_type": "code",
      "source": [
        "import string\n",
        "import numpy as np\n",
        "MAXLEN = 32\n",
        "class CharacterCodec(object):\n",
        "    def __init__(self, alphabet, maxlen):\n",
        "        self.alphabet = list(sorted(set(alphabet)))\n",
        "        self.index_alphabet = dict((c, i) for i, c in enumerate(self.alphabet))\n",
        "        self.maxlen = maxlen\n",
        "\n",
        "    def encode(self, C, maxlen=None):\n",
        "        maxlen = maxlen if maxlen else self.maxlen\n",
        "        X = np.zeros((maxlen, len(self.alphabet)))\n",
        "        for i, c in enumerate(C[:maxlen]):\n",
        "            X[i, self.index_alphabet[c]] = 1\n",
        "        return X\n",
        "\n",
        "    def try_encode(self, C, maxlen=None):\n",
        "        try:\n",
        "            return self.encode(C, maxlen)\n",
        "        except KeyError:\n",
        "            return None\n",
        "\n",
        "    def decode(self, X, calc_argmax=True):\n",
        "        if calc_argmax:\n",
        "            X = X.argmax(axis=-1)\n",
        "        return ''.join(self.alphabet[x] for x in X)\n",
        "\n",
        "\n",
        "#\\x00 is the padding characters\n",
        "alphabet = set('\\x00 _' + string.ascii_lowercase + string.digits + ''.join(plain_char_map.keys()))\n",
        "codec = CharacterCodec(alphabet, MAXLEN)\n",
        "\n",
        "print(codec.encode(u'cô gái đến từ hôm qua'))\n",
        "print(codec.decode(codec.encode(u'cô gái đến từ hôm qua')).replace('\\x00', '#'))"
      ],
      "metadata": {
        "colab": {
          "base_uri": "https://localhost:8080/"
        },
        "id": "gXguPxR-jRki",
        "outputId": "305ac97c-f020-459f-ed7f-92fbc2898e19"
      },
      "execution_count": null,
      "outputs": [
        {
          "output_type": "stream",
          "name": "stdout",
          "text": [
            "[[0. 0. 0. ... 0. 0. 0.]\n",
            " [0. 0. 0. ... 0. 0. 0.]\n",
            " [0. 1. 0. ... 0. 0. 0.]\n",
            " ...\n",
            " [0. 0. 0. ... 0. 0. 0.]\n",
            " [0. 0. 0. ... 0. 0. 0.]\n",
            " [0. 0. 0. ... 0. 0. 0.]]\n",
            "cô gái đến từ hôm qua###########\n"
          ]
        }
      ]
    },
    {
      "cell_type": "code",
      "source": [
        "NGRAM = 8\n",
        "def gen_ngrams(words, n=3):\n",
        "    \"\"\" gen n-grams from given phrase or list of words \"\"\"\n",
        "    if isinstance(words, (str, re.UNICODE)):\n",
        "        words = re.split('\\s+', words.strip())\n",
        "\n",
        "    if len(words) < n:\n",
        "        padded_words = words + ['\\x00'] * (n - len(words))\n",
        "        yield tuple(padded_words)\n",
        "    else:\n",
        "        for i in range(len(words) - n + 1):\n",
        "            yield tuple(words[i: i+n])\n",
        "\n",
        "\n",
        "list(gen_ngrams('co gai den tu hom qua', NGRAM))"
      ],
      "metadata": {
        "colab": {
          "base_uri": "https://localhost:8080/"
        },
        "id": "P-Pzym6g5mnm",
        "outputId": "0a857aff-f5f5-444a-b278-07854c31d41e"
      },
      "execution_count": null,
      "outputs": [
        {
          "output_type": "execute_result",
          "data": {
            "text/plain": [
              "[('co', 'gai', 'den', 'tu', 'hom', 'qua', '\\x00', '\\x00')]"
            ]
          },
          "metadata": {},
          "execution_count": 6
        }
      ]
    },
    {
      "cell_type": "code",
      "source": [
        "ngrams = itertools.chain.from_iterable(gen_ngrams(p, NGRAM) for p in phrases)\n",
        "ngrams = list(set(' '.join(t) for t in set(ngrams)))\n",
        "[print(t) for t in ngrams[:5]]\n",
        "print('Number of {}-gram: {}'.format(NGRAM, len(ngrams)))"
      ],
      "metadata": {
        "colab": {
          "base_uri": "https://localhost:8080/"
        },
        "id": "meRuwN7K8J6_",
        "outputId": "850831e9-671f-42c9-effb-88ccb57abd52"
      },
      "execution_count": null,
      "outputs": [
        {
          "output_type": "stream",
          "name": "stdout",
          "text": [
            "bình quân tiền lương tính đóng bảo hiểm\n",
            "i cho smartphone \u0000 \u0000 \u0000 \u0000 \u0000\n",
            "n gia hay ca \u0000 \u0000 \u0000 \u0000\n",
            "phố hong kong \u0000 \u0000 \u0000 \u0000 \u0000\n",
            "khoăn thắt ống dẫn tinh sẽ mất nhiều\n",
            "Number of 8-gram: 2772228\n"
          ]
        }
      ]
    },
    {
      "cell_type": "code",
      "source": [
        "# For fast training, just keep 25K samples\n",
        "ngrams = ngrams[:5000]\n",
        "print('Number of {}-gram: {}'.format(NGRAM, len(ngrams)))"
      ],
      "metadata": {
        "colab": {
          "base_uri": "https://localhost:8080/"
        },
        "id": "jrZ5UAcH8nrK",
        "outputId": "4e7be231-71bc-466b-ff31-c59c0f384ef3"
      },
      "execution_count": null,
      "outputs": [
        {
          "output_type": "stream",
          "name": "stdout",
          "text": [
            "Number of 8-gram: 5000\n"
          ]
        }
      ]
    },
    {
      "cell_type": "code",
      "source": [
        "unaccented_sentences = []\n",
        "accented_sentences = []\n",
        "for s in ngrams:\n",
        "  output_s = s + '\\x00' * (MAXLEN - len(s))\n",
        "  input_s = remove_accent(output_s)\n",
        "  unaccented_sentences.append(input_s)\n",
        "  accented_sentences.append(output_s)\n"
      ],
      "metadata": {
        "id": "H5BcuBTSGk5B"
      },
      "execution_count": null,
      "outputs": []
    },
    {
      "cell_type": "code",
      "source": [
        "len(unaccented_sentences)"
      ],
      "metadata": {
        "colab": {
          "base_uri": "https://localhost:8080/"
        },
        "id": "iw_gB7qpHYWW",
        "outputId": "28b24571-d863-45cb-dd47-3780a88921e0"
      },
      "execution_count": null,
      "outputs": [
        {
          "output_type": "execute_result",
          "data": {
            "text/plain": [
              "25000"
            ]
          },
          "metadata": {},
          "execution_count": 21
        }
      ]
    },
    {
      "cell_type": "code",
      "source": [
        "import torch\n",
        "from torch.utils.data import Dataset, DataLoader\n",
        "import torch.nn as nn\n",
        "import torch.optim as optim\n",
        "\n",
        "# Character-level vocabulary\n",
        "all_chars = list(set(\"\".join(unaccented_sentences + accented_sentences)))\n",
        "char_to_ix = {ch: i for i, ch in enumerate(all_chars)}\n",
        "ix_to_char = {i: ch for ch, i in char_to_ix.items()}\n",
        "\n",
        "# Check for GPU availability\n",
        "device = torch.device(\"cuda\" if torch.cuda.is_available() else \"cpu\")\n",
        "print(f\"Using device: {device}\")\n",
        "\n",
        "# Hyperparameters\n",
        "EMBEDDING_DIM = 32\n",
        "HIDDEN_DIM = 64\n",
        "EPOCHS = 300\n",
        "LEARNING_RATE = 0.001\n",
        "BATCH_SIZE = 128\n",
        "\n",
        "# Helper function to convert sequences to tensors\n",
        "def prepare_sequence(seq, to_ix):\n",
        "    idxs = [to_ix[ch] for ch in seq]\n",
        "    return torch.tensor(idxs, dtype=torch.long)\n",
        "\n",
        "# Custom dataset class\n",
        "class AccentDataset(Dataset):\n",
        "    def __init__(self, unaccented_sentences, accented_sentences, char_to_ix):\n",
        "        self.unaccented_sentences = unaccented_sentences\n",
        "        self.accented_sentences = accented_sentences\n",
        "        self.char_to_ix = char_to_ix\n",
        "\n",
        "    def __len__(self):\n",
        "        return len(self.unaccented_sentences)\n",
        "\n",
        "    def __getitem__(self, idx):\n",
        "        unaccented_seq = self.unaccented_sentences[idx]\n",
        "        accented_seq = self.accented_sentences[idx]\n",
        "        unaccented_tensor = prepare_sequence(unaccented_seq, self.char_to_ix)\n",
        "        accented_tensor = prepare_sequence(accented_seq, self.char_to_ix)\n",
        "        return unaccented_tensor, accented_tensor\n",
        "\n",
        "# Create dataset and data loader\n",
        "dataset = AccentDataset(unaccented_sentences, accented_sentences, char_to_ix)\n",
        "data_loader = DataLoader(dataset, batch_size=BATCH_SIZE, shuffle=True, collate_fn=lambda x: x)\n",
        "\n",
        "# LSTM model for accent insertion\n",
        "class AccentInsertionLSTM(nn.Module):\n",
        "    def __init__(self, embedding_dim, hidden_dim, vocab_size):\n",
        "        super(AccentInsertionLSTM, self).__init__()\n",
        "        self.hidden_dim = hidden_dim\n",
        "\n",
        "        # Embedding layer for characters\n",
        "        self.char_embeddings = nn.Embedding(vocab_size, embedding_dim)\n",
        "\n",
        "        # LSTM layer\n",
        "        self.lstm = nn.LSTM(embedding_dim, hidden_dim)\n",
        "\n",
        "        # Linear layer to map from hidden state to character space\n",
        "        self.hidden2char = nn.Linear(hidden_dim, vocab_size)\n",
        "\n",
        "    def forward(self, sentence):\n",
        "        embeds = self.char_embeddings(sentence)\n",
        "        lstm_out, _ = self.lstm(embeds.view(len(sentence), 1, -1))\n",
        "        char_space = self.hidden2char(lstm_out.view(len(sentence), -1))\n",
        "        char_scores = torch.log_softmax(char_space, dim=1)\n",
        "        return char_scores\n",
        "\n",
        "# Create model\n",
        "model = AccentInsertionLSTM(EMBEDDING_DIM, HIDDEN_DIM, len(char_to_ix)).to(device)\n",
        "\n",
        "# Loss function and optimizer (Adam)\n",
        "loss_function = nn.NLLLoss()\n",
        "optimizer = optim.Adam(model.parameters(), lr=LEARNING_RATE)\n",
        "\n",
        "# Training loop with DataLoader\n",
        "for epoch in range(EPOCHS):\n",
        "    total_loss = 0\n",
        "    for batch in data_loader:\n",
        "        for unaccented_tensor, accented_tensor in batch:\n",
        "            # Step 1: Clear gradients\n",
        "            model.zero_grad()\n",
        "\n",
        "            unaccented_tensor = unaccented_tensor.to(device)\n",
        "            accented_tensor = accented_tensor.to(device)\n",
        "\n",
        "            # Step 2: Forward pass\n",
        "            char_scores = model(unaccented_tensor)\n",
        "\n",
        "            # Step 3: Compute loss (average loss over the sequence)\n",
        "            loss = loss_function(char_scores, accented_tensor)\n",
        "\n",
        "            # Step 4: Backward pass and optimization\n",
        "            loss.backward()\n",
        "            optimizer.step()\n",
        "\n",
        "            total_loss += loss.item()\n",
        "\n",
        "    # Print average loss per epoch\n",
        "    avg_loss = total_loss / len(dataset)\n",
        "    if epoch % 10 == 0:\n",
        "        print(f'Epoch {epoch}, Average Loss: {avg_loss:.4f}')\n"
      ],
      "metadata": {
        "colab": {
          "base_uri": "https://localhost:8080/"
        },
        "id": "jD5JvFqxeC7O",
        "outputId": "a88878de-36ba-4b85-a58f-2b3f8e83fa05"
      },
      "execution_count": null,
      "outputs": [
        {
          "output_type": "stream",
          "name": "stdout",
          "text": [
            "Using device: cuda\n",
            "Epoch 0, Average Loss: 0.4287\n",
            "Epoch 10, Average Loss: 0.1923\n",
            "Epoch 20, Average Loss: 0.1701\n",
            "Epoch 30, Average Loss: 0.1545\n",
            "Epoch 40, Average Loss: 0.1444\n",
            "Epoch 50, Average Loss: 0.1398\n",
            "Epoch 60, Average Loss: 0.1363\n",
            "Epoch 70, Average Loss: 0.1338\n",
            "Epoch 80, Average Loss: 0.1330\n",
            "Epoch 90, Average Loss: 0.1324\n",
            "Epoch 100, Average Loss: 0.1309\n",
            "Epoch 110, Average Loss: 0.1346\n",
            "Epoch 120, Average Loss: 0.1320\n",
            "Epoch 130, Average Loss: 0.1304\n",
            "Epoch 140, Average Loss: 0.1316\n",
            "Epoch 150, Average Loss: 0.1352\n",
            "Epoch 160, Average Loss: 0.1359\n",
            "Epoch 170, Average Loss: 0.1359\n",
            "Epoch 180, Average Loss: 0.1378\n",
            "Epoch 190, Average Loss: 0.1391\n",
            "Epoch 200, Average Loss: 0.1382\n",
            "Epoch 210, Average Loss: 0.1403\n",
            "Epoch 220, Average Loss: 0.1423\n",
            "Epoch 230, Average Loss: 0.1455\n",
            "Epoch 240, Average Loss: 0.1470\n",
            "Epoch 250, Average Loss: 0.1479\n",
            "Epoch 260, Average Loss: 0.1482\n",
            "Epoch 270, Average Loss: 0.1532\n",
            "Epoch 280, Average Loss: 0.1575\n",
            "Epoch 290, Average Loss: 0.1525\n"
          ]
        }
      ]
    },
    {
      "cell_type": "code",
      "source": [
        "# Testing the model on new input\n",
        "with torch.no_grad():\n",
        "    test_sentence = \"tri tue nhan tao\"  # unaccented input\n",
        "    input_seq = prepare_sequence(test_sentence, char_to_ix).to(device)\n",
        "    char_scores = model(input_seq)\n",
        "\n",
        "    # Get the predicted characters\n",
        "    predicted_indices = torch.argmax(char_scores, dim=1)\n",
        "    predicted_sentence = ''.join([ix_to_char[i.item()] for i in predicted_indices])\n",
        "\n",
        "    print(f'Input: {test_sentence}, Output: {predicted_sentence}')\n"
      ],
      "metadata": {
        "colab": {
          "base_uri": "https://localhost:8080/"
        },
        "id": "PWHxxXkASh8A",
        "outputId": "d4e06ba8-a8ba-4dab-a4c1-addec9486769"
      },
      "execution_count": null,
      "outputs": [
        {
          "output_type": "stream",
          "name": "stdout",
          "text": [
            "Input: loi ich dat nuoc, Output: òòcẽớýẽẽđặốẽẽẽẽ2\n"
          ]
        }
      ]
    }
  ]
}