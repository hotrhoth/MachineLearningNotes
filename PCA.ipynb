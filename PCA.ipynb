{
 "cells": [
  {
   "cell_type": "markdown",
   "metadata": {},
   "source": [
    "### Principal Component Analysis\n"
   ]
  },
  {
   "cell_type": "code",
   "execution_count": 1,
   "metadata": {},
   "outputs": [],
   "source": [
    "import numpy as np \n",
    "from scipy import misc "
   ]
  },
  {
   "cell_type": "code",
   "execution_count": null,
   "metadata": {},
   "outputs": [],
   "source": [
    "path = 'unpadded/' # path to the database \n",
    "ids = range(1, 16) # 15 persons\n",
    "states = ['centerlight', 'glasses', 'happy', 'leftlight', \n",
    "          'noglasses', 'normal', 'rightlight','sad', \n",
    "          'sleepy', 'surprised', 'wink' ]\n",
    "prefix = 'subject'\n",
    "surfix = '.pgm'\n",
    "\n",
    "im = misc.imread(fn)\n",
    "h = 116 # hight \n",
    "w = 98 # width\n",
    "D = h * w\n",
    "N = len(states)*15 \n",
    "\n",
    "X = np.zeros((D, N))\n",
    "# collect all data\n",
    "cnt = 0 \n",
    "for person_id in range(1, 16):\n",
    "    for state in states:\n",
    "        fn = path + prefix + str(person_id).zfill(2) + '.' + state + surfix\n",
    "        X[:, cnt] = misc.imread(fn).reshape(D)\n",
    "        cnt += 1 "
   ]
  },
  {
   "cell_type": "code",
   "execution_count": null,
   "metadata": {},
   "outputs": [],
   "source": [
    "# Doing PCA, note that each row is a datapoint\n",
    "from sklearn.decomposition import PCA\n",
    "pca = PCA(n_components=100) # k = 100 \n",
    "pca.fit(X.T)\n",
    "\n",
    "# projection matrix \n",
    "U = pca.components_.T\n"
   ]
  },
  {
   "cell_type": "code",
   "execution_count": null,
   "metadata": {},
   "outputs": [],
   "source": [
    "import matplotlib.pyplot as plt\n",
    "# See reconstruction of first 6 persons \n",
    "for person_id in range(1, 7):\n",
    "    for state in ['centerlight']:\n",
    "        fn = path + prefix + str(person_id).zfill(2) + '.' + state + surfix\n",
    "        im = misc.imread(fn)\n",
    "        plt.axis('off')\n",
    "#         plt.imshow(im, interpolation='nearest' )\n",
    "        f1 = plt.imshow(im, interpolation='nearest')\n",
    "        f1.axes.get_xaxis().set_visible(False)\n",
    "        f1.axes.get_yaxis().set_visible(False)\n",
    "        plt.gray()\n",
    "        fn = 'ori' + str(person_id).zfill(2) + '.png'\n",
    "        plt.savefig(fn, bbox_inches='tight', pad_inches=0)\n",
    "        plt.show()\n",
    "        # reshape and subtract mean, don't forget \n",
    "        x = im.reshape(D, 1) - pca.mean_.reshape(D, 1)\n",
    "        # encode\n",
    "        z = U.T.dot(x)\n",
    "        #decode\n",
    "        x_tilde = U.dot(z) + pca.mean_.reshape(D, 1)\n",
    "\n",
    "        # reshape to orginal dim\n",
    "        im_tilde = x_tilde.reshape(116, 98)\n",
    "        plt.axis('off')\n",
    "#         plt.imshow(im_tilde, interpolation='nearest' )\n",
    "        f1 = plt.imshow(im_tilde, interpolation='nearest')\n",
    "        f1.axes.get_xaxis().set_visible(False)\n",
    "        f1.axes.get_yaxis().set_visible(False)\n",
    "        plt.gray()\n",
    "        fn = 'res' + str(person_id).zfill(2) + '.png'\n",
    "        plt.savefig(fn, bbox_inches='tight', pad_inches=0)\n",
    "        plt.show()"
   ]
  }
 ],
 "metadata": {
  "kernelspec": {
   "display_name": "Python 3",
   "language": "python",
   "name": "python3"
  },
  "language_info": {
   "codemirror_mode": {
    "name": "ipython",
    "version": 3
   },
   "file_extension": ".py",
   "mimetype": "text/x-python",
   "name": "python",
   "nbconvert_exporter": "python",
   "pygments_lexer": "ipython3",
   "version": "3.9.6"
  }
 },
 "nbformat": 4,
 "nbformat_minor": 2
}
